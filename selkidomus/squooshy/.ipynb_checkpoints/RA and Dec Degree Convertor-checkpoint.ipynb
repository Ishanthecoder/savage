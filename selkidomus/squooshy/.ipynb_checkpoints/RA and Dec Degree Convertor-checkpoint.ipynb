{
 "cells": [
  {
   "cell_type": "code",
   "execution_count": 1,
   "metadata": {},
   "outputs": [
    {
     "name": "stdout",
     "output_type": "stream",
     "text": [
      "\n",
      "Import Complete\n",
      "\n",
      "                       Name          RA        Dec Class       Gmag\n",
      "0           TYC 3740-1791-1   67.040642  56.984493    EM  10.764656\n",
      "1            TYC 2670-214-1  299.608643  31.811638    EM  11.336642\n",
      "2  WISE J194127.64+385155.3  295.365206  38.865364  Cool  12.327266\n",
      "3  WISE J185608.58-163255.1  284.035758 -16.548670  Cool  12.038886\n",
      "4            TYC 2917-929-1   81.081670  42.603816   Hot   8.792342\n",
      "5           TYC 4823-1194-1  107.940776  -4.137137   Hot   8.107479\n"
     ]
    }
   ],
   "source": [
    "'''This cell imports pandas and the CSV file contiang the data that needs to be sorted and stores it as 'ctf' \n",
    "\n",
    "Genral note: This note book was created as a simplified verion of the filter interface notebook and carried over variable names from that project '''\n",
    "\n",
    "import pandas as pd\n",
    "import csv\n",
    "import numpy as np\n",
    "from astropy import units as u\n",
    "from astropy.coordinates import Angle\n",
    "\n",
    "\n",
    "\n",
    "pd.set_option(\"display.max_rows\", None, \"display.max_columns\", None)\n",
    "\n",
    "cosmosTargets=pd.read_csv('COSMOS_Hot_Bright_Targets_Interest_Order - cosmos_all_targets_decimal.csv')\n",
    "\n",
    "        \n",
    "print (\"\\nImport Complete\\n\")\n",
    "print(cosmosTargets)"
   ]
  },
  {
   "cell_type": "code",
   "execution_count": null,
   "metadata": {},
   "outputs": [],
   "source": []
  },
  {
   "cell_type": "code",
   "execution_count": 2,
   "metadata": {},
   "outputs": [],
   "source": [
    "def Convert_To_DMS(valueOfDec):\n",
    "    valueOfDec=Angle(valueOfDec, u.degree)\n",
    "    valueOfDec=valueOfDec.to_string(unit=u.degree,sep=':')\n",
    "    return valueOfDec"
   ]
  },
  {
   "cell_type": "code",
   "execution_count": 3,
   "metadata": {},
   "outputs": [],
   "source": [
    "def Convert_To_HMS(valueOfRA):\n",
    "    valueOfRA=Angle(valueOfRA, u.degree)\n",
    "    valueOfRA=valueOfRA.to_string(unit=u.hour, sep=':')\n",
    "    return valueOfRA"
   ]
  },
  {
   "cell_type": "code",
   "execution_count": 4,
   "metadata": {},
   "outputs": [],
   "source": [
    "def MagEquals(GmagVal):\n",
    "    str(GmagVal)\n",
    "    GmagVal=\"Magnitude=\"+GmagVal.apply(str)\n",
    "    return GmagVal\n",
    "    \n",
    "    "
   ]
  },
  {
   "cell_type": "code",
   "execution_count": 5,
   "metadata": {},
   "outputs": [],
   "source": [
    "def NameEquals(starName):\n",
    "    \n",
    "    starName='\"'+starName+'\"'\n",
    "    return starName\n",
    "    \n",
    "    "
   ]
  },
  {
   "cell_type": "code",
   "execution_count": null,
   "metadata": {},
   "outputs": [],
   "source": []
  },
  {
   "cell_type": "code",
   "execution_count": 6,
   "metadata": {},
   "outputs": [
    {
     "name": "stdout",
     "output_type": "stream",
     "text": [
      "0    56.984493\n",
      "1    31.811638\n",
      "2    38.865364\n",
      "3   -16.548670\n",
      "4    42.603816\n",
      "5    -4.137137\n",
      "Name: Dec, dtype: float64\n",
      "['56:59:04.1751' '31:48:41.8967' '38:51:55.3114' '-16:32:55.2123'\n",
      " '42:36:13.7391' '-4:08:13.6917']\n",
      "                       Name          RA             Dec Class       Gmag\n",
      "0           TYC 3740-1791-1   67.040642   56:59:04.1751    EM  10.764656\n",
      "1            TYC 2670-214-1  299.608643   31:48:41.8967    EM  11.336642\n",
      "2  WISE J194127.64+385155.3  295.365206   38:51:55.3114  Cool  12.327266\n",
      "3  WISE J185608.58-163255.1  284.035758  -16:32:55.2123  Cool  12.038886\n",
      "4            TYC 2917-929-1   81.081670   42:36:13.7391   Hot   8.792342\n",
      "5           TYC 4823-1194-1  107.940776   -4:08:13.6917   Hot   8.107479\n"
     ]
    }
   ],
   "source": [
    "print (cosmosTargets.Dec)\n",
    "cosmosTargets2=cosmosTargets\n",
    "print (Convert_To_DMS(cosmosTargets.Dec))\n",
    "cosmosTargets2.Dec = Convert_To_DMS(cosmosTargets.Dec)\n",
    "print (cosmosTargets2)"
   ]
  },
  {
   "cell_type": "code",
   "execution_count": 7,
   "metadata": {},
   "outputs": [
    {
     "name": "stdout",
     "output_type": "stream",
     "text": [
      "0     67.040642\n",
      "1    299.608643\n",
      "2    295.365206\n",
      "3    284.035758\n",
      "4     81.081670\n",
      "5    107.940776\n",
      "Name: RA, dtype: float64\n",
      "['4:28:09.7541' '19:58:26.0743' '19:41:27.6495' '18:56:08.5818'\n",
      " '5:24:19.6007' '7:11:45.7864']\n",
      "                       Name             RA             Dec Class       Gmag\n",
      "0           TYC 3740-1791-1   4:28:09.7541   56:59:04.1751    EM  10.764656\n",
      "1            TYC 2670-214-1  19:58:26.0743   31:48:41.8967    EM  11.336642\n",
      "2  WISE J194127.64+385155.3  19:41:27.6495   38:51:55.3114  Cool  12.327266\n",
      "3  WISE J185608.58-163255.1  18:56:08.5818  -16:32:55.2123  Cool  12.038886\n",
      "4            TYC 2917-929-1   5:24:19.6007   42:36:13.7391   Hot   8.792342\n",
      "5           TYC 4823-1194-1   7:11:45.7864   -4:08:13.6917   Hot   8.107479\n"
     ]
    }
   ],
   "source": [
    "print (cosmosTargets2.RA)\n",
    "cosmosTargets3=cosmosTargets2\n",
    "print (Convert_To_HMS(cosmosTargets2.RA))\n",
    "cosmosTargets3.RA = Convert_To_HMS(cosmosTargets.RA)\n",
    "print (cosmosTargets3)"
   ]
  },
  {
   "cell_type": "code",
   "execution_count": 8,
   "metadata": {},
   "outputs": [
    {
     "name": "stdout",
     "output_type": "stream",
     "text": [
      "                         Name             RA             Dec Class  \\\n",
      "0           \"TYC 3740-1791-1\"   4:28:09.7541   56:59:04.1751    EM   \n",
      "1            \"TYC 2670-214-1\"  19:58:26.0743   31:48:41.8967    EM   \n",
      "2  \"WISE J194127.64+385155.3\"  19:41:27.6495   38:51:55.3114  Cool   \n",
      "3  \"WISE J185608.58-163255.1\"  18:56:08.5818  -16:32:55.2123  Cool   \n",
      "4            \"TYC 2917-929-1\"   5:24:19.6007   42:36:13.7391   Hot   \n",
      "5           \"TYC 4823-1194-1\"   7:11:45.7864   -4:08:13.6917   Hot   \n",
      "\n",
      "                  Gmag  \n",
      "0  Magnitude=10.764656  \n",
      "1  Magnitude=11.336642  \n",
      "2  Magnitude=12.327266  \n",
      "3  Magnitude=12.038886  \n",
      "4   Magnitude=8.792342  \n",
      "5   Magnitude=8.107479  \n"
     ]
    }
   ],
   "source": [
    "cosmosTargets4=cosmosTargets3\n",
    "cosmosTargets3.Gmag = MagEquals(cosmosTargets3.Gmag)\n",
    "cosmosTargets4.Name = NameEquals(cosmosTargets3.Name)\n",
    "print (cosmosTargets4)"
   ]
  },
  {
   "cell_type": "code",
   "execution_count": 9,
   "metadata": {},
   "outputs": [
    {
     "name": "stdout",
     "output_type": "stream",
     "text": [
      "                        #Name             RA             Dec  \\\n",
      "0           \"TYC 3740-1791-1\"   4:28:09.7541   56:59:04.1751   \n",
      "1            \"TYC 2670-214-1\"  19:58:26.0743   31:48:41.8967   \n",
      "2  \"WISE J194127.64+385155.3\"  19:41:27.6495   38:51:55.3114   \n",
      "3  \"WISE J185608.58-163255.1\"  18:56:08.5818  -16:32:55.2123   \n",
      "4            \"TYC 2917-929-1\"   5:24:19.6007   42:36:13.7391   \n",
      "5           \"TYC 4823-1194-1\"   7:11:45.7864   -4:08:13.6917   \n",
      "\n",
      "                  Gmag  \n",
      "0  Magnitude=10.764656  \n",
      "1  Magnitude=11.336642  \n",
      "2  Magnitude=12.327266  \n",
      "3  Magnitude=12.038886  \n",
      "4   Magnitude=8.792342  \n",
      "5   Magnitude=8.107479  \n"
     ]
    }
   ],
   "source": [
    "cosmosTargets5 = cosmosTargets4.drop(columns=['Class'])\n",
    "cosmosTargetsFinal = cosmosTargets5.rename(columns={'Name':'#Name'},index={'One':'Row_1'})\n",
    "print (cosmosTargetsFinal)"
   ]
  },
  {
   "cell_type": "code",
   "execution_count": 10,
   "metadata": {},
   "outputs": [
    {
     "data": {
      "text/html": [
       "<div>\n",
       "<style scoped>\n",
       "    .dataframe tbody tr th:only-of-type {\n",
       "        vertical-align: middle;\n",
       "    }\n",
       "\n",
       "    .dataframe tbody tr th {\n",
       "        vertical-align: top;\n",
       "    }\n",
       "\n",
       "    .dataframe thead th {\n",
       "        text-align: right;\n",
       "    }\n",
       "</style>\n",
       "<table border=\"1\" class=\"dataframe\">\n",
       "  <thead>\n",
       "    <tr style=\"text-align: right;\">\n",
       "      <th></th>\n",
       "      <th>#Name</th>\n",
       "      <th>RA</th>\n",
       "      <th>Dec</th>\n",
       "      <th>Gmag</th>\n",
       "    </tr>\n",
       "  </thead>\n",
       "  <tbody>\n",
       "    <tr>\n",
       "      <th>0</th>\n",
       "      <td>\"TYC 3740-1791-1\"</td>\n",
       "      <td>4:28:09.7541</td>\n",
       "      <td>56:59:04.1751</td>\n",
       "      <td>Magnitude=10.764656</td>\n",
       "    </tr>\n",
       "    <tr>\n",
       "      <th>1</th>\n",
       "      <td>\"TYC 2670-214-1\"</td>\n",
       "      <td>19:58:26.0743</td>\n",
       "      <td>31:48:41.8967</td>\n",
       "      <td>Magnitude=11.336642</td>\n",
       "    </tr>\n",
       "    <tr>\n",
       "      <th>2</th>\n",
       "      <td>\"WISE J194127.64+385155.3\"</td>\n",
       "      <td>19:41:27.6495</td>\n",
       "      <td>38:51:55.3114</td>\n",
       "      <td>Magnitude=12.327266</td>\n",
       "    </tr>\n",
       "    <tr>\n",
       "      <th>3</th>\n",
       "      <td>\"WISE J185608.58-163255.1\"</td>\n",
       "      <td>18:56:08.5818</td>\n",
       "      <td>-16:32:55.2123</td>\n",
       "      <td>Magnitude=12.038886</td>\n",
       "    </tr>\n",
       "    <tr>\n",
       "      <th>4</th>\n",
       "      <td>\"TYC 2917-929-1\"</td>\n",
       "      <td>5:24:19.6007</td>\n",
       "      <td>42:36:13.7391</td>\n",
       "      <td>Magnitude=8.792342</td>\n",
       "    </tr>\n",
       "    <tr>\n",
       "      <th>5</th>\n",
       "      <td>\"TYC 4823-1194-1\"</td>\n",
       "      <td>7:11:45.7864</td>\n",
       "      <td>-4:08:13.6917</td>\n",
       "      <td>Magnitude=8.107479</td>\n",
       "    </tr>\n",
       "  </tbody>\n",
       "</table>\n",
       "</div>"
      ],
      "text/plain": [
       "                        #Name             RA             Dec  \\\n",
       "0           \"TYC 3740-1791-1\"   4:28:09.7541   56:59:04.1751   \n",
       "1            \"TYC 2670-214-1\"  19:58:26.0743   31:48:41.8967   \n",
       "2  \"WISE J194127.64+385155.3\"  19:41:27.6495   38:51:55.3114   \n",
       "3  \"WISE J185608.58-163255.1\"  18:56:08.5818  -16:32:55.2123   \n",
       "4            \"TYC 2917-929-1\"   5:24:19.6007   42:36:13.7391   \n",
       "5           \"TYC 4823-1194-1\"   7:11:45.7864   -4:08:13.6917   \n",
       "\n",
       "                  Gmag  \n",
       "0  Magnitude=10.764656  \n",
       "1  Magnitude=11.336642  \n",
       "2  Magnitude=12.327266  \n",
       "3  Magnitude=12.038886  \n",
       "4   Magnitude=8.792342  \n",
       "5   Magnitude=8.107479  "
      ]
     },
     "execution_count": 10,
     "metadata": {},
     "output_type": "execute_result"
    }
   ],
   "source": [
    "cosmosTargetsFinal.to_csv('V4COSMOS_Targets_Converted_No_Class_Adjsuted_Mag_Tab_Seperated.csv',index = False, na_rep=\"NAN!\",sep='\\t', quoting=csv.QUOTE_NONE)\n",
    "\n",
    "cosmosTargetsFinal.to_csv('csvFormatCOSMOS_Targets_Converted_No_Class_Adjsuted_Mag.csv',index = False, na_rep=\"NAN!\")\n",
    "\n",
    "\n",
    "tsi = pd.read_csv ('V3COSMOS_Targets_Converted_No_Class_Adjsuted_Mag_Tab_Seperated.csv')\n",
    "tsi\n",
    "tsi2 = pd.read_csv ('csvFormatCOSMOS_Targets_Converted_No_Class_Adjsuted_Mag.csv')\n",
    "tsi2\n",
    "#tsi.to_csv('TabSep_COSMOS_Targets_Converted3.csv',index = False, na_rep=\"NAN!\",sep='\\t')\n"
   ]
  }
 ],
 "metadata": {
  "kernelspec": {
   "display_name": "Python 3",
   "language": "python",
   "name": "python3"
  },
  "language_info": {
   "codemirror_mode": {
    "name": "ipython",
    "version": 3
   },
   "file_extension": ".py",
   "mimetype": "text/x-python",
   "name": "python",
   "nbconvert_exporter": "python",
   "pygments_lexer": "ipython3",
   "version": "3.7.8"
  }
 },
 "nbformat": 4,
 "nbformat_minor": 4
}

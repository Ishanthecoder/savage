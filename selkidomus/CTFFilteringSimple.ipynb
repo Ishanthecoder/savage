{
 "cells": [
  {
   "cell_type": "code",
   "execution_count": 5,
   "metadata": {},
   "outputs": [
    {
     "name": "stdout",
     "output_type": "stream",
     "text": [
      "\n",
      "Import Complete\n",
      "\n"
     ]
    }
   ],
   "source": [
    "'''This cell imports pandas and the CSV file contiang the data that needs to be sorted and stores it as 'ctf' \n",
    "\n",
    "Genral note: This note book was created as a simplified verion of the filter interface notebook and carried over variable names from that project '''\n",
    "\n",
    "import pandas as pd\n",
    "\n",
    "\n",
    "pd.set_option(\"display.max_rows\", None, \"display.max_columns\", None)\n",
    "\n",
    "ctf = pd.read_csv ('coarse_table_full.csv')\n",
    "\n",
    "        \n",
    "print (\"\\nImport Complete\\n\")"
   ]
  },
  {
   "cell_type": "code",
   "execution_count": 6,
   "metadata": {},
   "outputs": [],
   "source": [
    "'''This cell allows for easy modification to the search parameters category (Cat1) and search term (searchTerm1), which line 8 uses as inputs to filter ctf creating a new array containing only the indexes that meet the parameters called ctf2. \n",
    "\n",
    "In the orignal porject the code would promt the user to input these values'''\n",
    "type(ctf)\n",
    "\n",
    "Cat1 = \"Class\"#input category. this will work will work for both the string coloumns, Name and Class.   \n",
    "\n",
    "searchTerm1 = \"EM|Cool\"\n",
    "\n",
    "ctf2 = ctf.loc[ctf[Cat1].str.contains(searchTerm1)]"
   ]
  },
  {
   "cell_type": "code",
   "execution_count": 7,
   "metadata": {},
   "outputs": [],
   "source": [
    "\n",
    "\n",
    "minDec = -25.0 # input minimum declnation your telescope can observe using the Apache Point Observatory \n",
    "\n",
    "ctf3 = (ctf2.Dec >= minDec) #generate a array of which indexes meet the boleean conditon called ctf3 with index numbers from ctf2 \n",
    "\n",
    "\n",
    "#ctf3[ctf3].index.values\n",
    "targetStarsIndex = [*filter(ctf3.get, ctf3.index)]"
   ]
  },
  {
   "cell_type": "code",
   "execution_count": 9,
   "metadata": {},
   "outputs": [
    {
     "data": {
      "text/html": [
       "<div>\n",
       "<style scoped>\n",
       "    .dataframe tbody tr th:only-of-type {\n",
       "        vertical-align: middle;\n",
       "    }\n",
       "\n",
       "    .dataframe tbody tr th {\n",
       "        vertical-align: top;\n",
       "    }\n",
       "\n",
       "    .dataframe thead th {\n",
       "        text-align: right;\n",
       "    }\n",
       "</style>\n",
       "<table border=\"1\" class=\"dataframe\">\n",
       "  <thead>\n",
       "    <tr style=\"text-align: right;\">\n",
       "      <th></th>\n",
       "      <th>Unnamed: 0</th>\n",
       "      <th>Name</th>\n",
       "      <th>RA</th>\n",
       "      <th>Dec</th>\n",
       "      <th>Class</th>\n",
       "      <th>Gmag</th>\n",
       "    </tr>\n",
       "  </thead>\n",
       "  <tbody>\n",
       "    <tr>\n",
       "      <th>0</th>\n",
       "      <td>413</td>\n",
       "      <td>TYC 3740-1791-1</td>\n",
       "      <td>67.040642</td>\n",
       "      <td>56.984493</td>\n",
       "      <td>EM</td>\n",
       "      <td>10.764656</td>\n",
       "    </tr>\n",
       "    <tr>\n",
       "      <th>1</th>\n",
       "      <td>2494</td>\n",
       "      <td>WISE J185608.58-163255.1</td>\n",
       "      <td>284.035758</td>\n",
       "      <td>-16.548670</td>\n",
       "      <td>Cool</td>\n",
       "      <td>12.038886</td>\n",
       "    </tr>\n",
       "    <tr>\n",
       "      <th>2</th>\n",
       "      <td>2516</td>\n",
       "      <td>WISE J194127.64+385155.3</td>\n",
       "      <td>295.365206</td>\n",
       "      <td>38.865364</td>\n",
       "      <td>Cool</td>\n",
       "      <td>12.327266</td>\n",
       "    </tr>\n",
       "    <tr>\n",
       "      <th>3</th>\n",
       "      <td>2525</td>\n",
       "      <td>TYC 2670-214-1</td>\n",
       "      <td>299.608643</td>\n",
       "      <td>31.811638</td>\n",
       "      <td>EM</td>\n",
       "      <td>11.336642</td>\n",
       "    </tr>\n",
       "  </tbody>\n",
       "</table>\n",
       "</div>"
      ],
      "text/plain": [
       "   Unnamed: 0                      Name          RA        Dec Class  \\\n",
       "0         413           TYC 3740-1791-1   67.040642  56.984493    EM   \n",
       "1        2494  WISE J185608.58-163255.1  284.035758 -16.548670  Cool   \n",
       "2        2516  WISE J194127.64+385155.3  295.365206  38.865364  Cool   \n",
       "3        2525            TYC 2670-214-1  299.608643  31.811638    EM   \n",
       "\n",
       "        Gmag  \n",
       "0  10.764656  \n",
       "1  12.038886  \n",
       "2  12.327266  \n",
       "3  11.336642  "
      ]
     },
     "execution_count": 9,
     "metadata": {},
     "output_type": "execute_result"
    }
   ],
   "source": [
    "ctfFinal = ctf2.loc[targetStarsIndex]\n",
    "\n",
    "ctfFinal.to_csv('list_of_viable_stars_simplemethod.csv', float_format='%.8f', na_rep=\"NAN!\")\n",
    "\n",
    "tsi = pd.read_csv ('list_of_viable_stars_simplemethod.csv')\n",
    "tsi\n",
    "#type (tsi)"
   ]
  },
  {
   "cell_type": "code",
   "execution_count": null,
   "metadata": {},
   "outputs": [],
   "source": []
  }
 ],
 "metadata": {
  "kernelspec": {
   "display_name": "Python 3",
   "language": "python",
   "name": "python3"
  },
  "language_info": {
   "codemirror_mode": {
    "name": "ipython",
    "version": 3
   },
   "file_extension": ".py",
   "mimetype": "text/x-python",
   "name": "python",
   "nbconvert_exporter": "python",
   "pygments_lexer": "ipython3",
   "version": "3.7.3"
  }
 },
 "nbformat": 4,
 "nbformat_minor": 4
}

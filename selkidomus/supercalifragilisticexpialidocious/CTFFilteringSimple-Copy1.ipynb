{
 "cells": [
  {
   "cell_type": "code",
   "execution_count": 41,
   "metadata": {},
   "outputs": [
    {
     "name": "stdout",
     "output_type": "stream",
     "text": [
      "\n",
      "Import Complete\n",
      "\n"
     ]
    }
   ],
   "source": [
    "'''This cell imports pandas and the CSV file contiang the data that needs to be sorted and stores it as 'ctf' \n",
    "\n",
    "Genral note: This note book was created as a simplified verion of the filter interface notebook and carried over variable names from that project '''\n",
    "\n",
    "import pandas as pd\n",
    "\n",
    "\n",
    "pd.set_option(\"display.max_rows\", None, \"display.max_columns\", None)\n",
    "\n",
    "ctf = pd.read_csv ('coarse_table_full.csv')\n",
    "\n",
    "        \n",
    "print (\"\\nImport Complete\\n\")"
   ]
  },
  {
   "cell_type": "code",
   "execution_count": 42,
   "metadata": {},
   "outputs": [
    {
     "name": "stdout",
     "output_type": "stream",
     "text": [
      "                          Name          RA        Dec        Class       Gmag\n",
      "413            TYC 3740-1791-1   67.040642  56.984493           EM  10.764656\n",
      "573   WISE J045451.56-670203.9   73.714861 -67.034497           EM  14.046777\n",
      "605   WISE J045550.56-695807.0   73.960641 -69.968616           EM  13.954285\n",
      "654   WISE J045719.13-673047.0   74.329243 -67.513090           EM  14.631564\n",
      "756   WISE J050128.62-701120.2   75.369061 -70.188978           EM  13.878529\n",
      "989   WISE J051038.76-642117.8   77.661495 -64.354943           EM  14.231917\n",
      "1132  WISE J051852.07-625750.2   79.716991 -62.963962  Contaminant  14.807224\n",
      "1423  WISE J052915.30-671259.8   82.313739 -67.216612           EM  13.706032\n",
      "1462  WISE J053001.84-664614.4   82.507758 -66.770707           EM  13.860653\n",
      "1594  WISE J053323.01-673059.8   83.345961 -67.516699           EM  13.637502\n",
      "1629  WISE J053424.65-662557.5   83.602704 -66.432664           EM  13.660733\n",
      "1681   2MASS J05362506-7012222   84.104532 -70.206180           EM  16.012371\n",
      "2379  WISE J110247.58-610632.9  165.698217 -61.109151           EM  11.111307\n",
      "2382              CPD-60  2585  167.555988 -60.775415           EM   9.750662\n",
      "2525            TYC 2670-214-1  299.608643  31.811638           EM  11.336642\n"
     ]
    }
   ],
   "source": [
    "'''This cell allows for easy modification to the search parameters category (Cat1) and search term (searchTerm1), which line 8 uses as inputs to filter ctf creating a new array containing only the indexes that meet the parameters called ctf2. \n",
    "\n",
    "In the orignal porject the code would promt the user to input these values'''\n",
    "type(ctf)\n",
    "\n",
    "Cat1 = \"Class\"#input category. this will work will work for both the string coloumns, Name and Class.   \n",
    "\n",
    "searchTerm1 = \"EM|Contaminant\"\n",
    "\n",
    "ctf2 = ctf.loc[ctf[Cat1].str.contains(searchTerm1)]\n",
    "print (ctf2)"
   ]
  },
  {
   "cell_type": "code",
   "execution_count": 43,
   "metadata": {},
   "outputs": [
    {
     "name": "stdout",
     "output_type": "stream",
     "text": [
      "413      True\n",
      "573     False\n",
      "605     False\n",
      "654     False\n",
      "756     False\n",
      "989     False\n",
      "1132    False\n",
      "1423    False\n",
      "1462    False\n",
      "1594    False\n",
      "1629    False\n",
      "1681    False\n",
      "2379    False\n",
      "2382    False\n",
      "2525     True\n",
      "Name: Dec, dtype: bool\n"
     ]
    }
   ],
   "source": [
    "\n",
    "\n",
    "minDec = -25.0 # input minimum declnation your telescope can observe using the Apache Point Observatory \n",
    "\n",
    "ctf3_1 = (ctf2.Dec >= minDec)\n",
    "ctf3_2= (ctf2.Dec <=-65) \n",
    "# ctf3step = [ctf3_1,ctf3_2]\n",
    "# ctf3 = pd.concat(ctf3step)\n",
    "#generate a array of which indexes meet the boleean conditon called ctf3 with index numbers from ctf2 \n",
    "print (ctf3)\n",
    "\n",
    "#ctf3[ctf3].index.values\n",
    "targetStarsIndex1 = [*filter(ctf3_1.get, ctf3_1.index)]\n",
    "targetStarsIndex2 = [*filter(ctf3_2.get, ctf3_2.index)]\n",
    "\n",
    "\n",
    "ctfFinal1 = ctf2.loc[targetStarsIndex1]\n",
    "ctfFinal2 = ctf2.loc[targetStarsIndex2]\n",
    "ctf3step = [ctfFinal2,ctfFinal1]\n",
    "ctfFinal = pd.concat(ctf3step)"
   ]
  },
  {
   "cell_type": "code",
   "execution_count": 44,
   "metadata": {},
   "outputs": [
    {
     "data": {
      "text/html": [
       "<div>\n",
       "<style scoped>\n",
       "    .dataframe tbody tr th:only-of-type {\n",
       "        vertical-align: middle;\n",
       "    }\n",
       "\n",
       "    .dataframe tbody tr th {\n",
       "        vertical-align: top;\n",
       "    }\n",
       "\n",
       "    .dataframe thead th {\n",
       "        text-align: right;\n",
       "    }\n",
       "</style>\n",
       "<table border=\"1\" class=\"dataframe\">\n",
       "  <thead>\n",
       "    <tr style=\"text-align: right;\">\n",
       "      <th></th>\n",
       "      <th>Name</th>\n",
       "      <th>RA</th>\n",
       "      <th>Dec</th>\n",
       "      <th>Class</th>\n",
       "      <th>Gmag</th>\n",
       "    </tr>\n",
       "  </thead>\n",
       "  <tbody>\n",
       "    <tr>\n",
       "      <th>0</th>\n",
       "      <td>WISE J045451.56-670203.9</td>\n",
       "      <td>73.714861</td>\n",
       "      <td>-67.034497</td>\n",
       "      <td>EM</td>\n",
       "      <td>14.046777</td>\n",
       "    </tr>\n",
       "    <tr>\n",
       "      <th>1</th>\n",
       "      <td>WISE J045550.56-695807.0</td>\n",
       "      <td>73.960641</td>\n",
       "      <td>-69.968616</td>\n",
       "      <td>EM</td>\n",
       "      <td>13.954285</td>\n",
       "    </tr>\n",
       "    <tr>\n",
       "      <th>2</th>\n",
       "      <td>WISE J045719.13-673047.0</td>\n",
       "      <td>74.329243</td>\n",
       "      <td>-67.513090</td>\n",
       "      <td>EM</td>\n",
       "      <td>14.631564</td>\n",
       "    </tr>\n",
       "    <tr>\n",
       "      <th>3</th>\n",
       "      <td>WISE J050128.62-701120.2</td>\n",
       "      <td>75.369061</td>\n",
       "      <td>-70.188978</td>\n",
       "      <td>EM</td>\n",
       "      <td>13.878529</td>\n",
       "    </tr>\n",
       "    <tr>\n",
       "      <th>4</th>\n",
       "      <td>WISE J052915.30-671259.8</td>\n",
       "      <td>82.313739</td>\n",
       "      <td>-67.216612</td>\n",
       "      <td>EM</td>\n",
       "      <td>13.706032</td>\n",
       "    </tr>\n",
       "    <tr>\n",
       "      <th>5</th>\n",
       "      <td>WISE J053001.84-664614.4</td>\n",
       "      <td>82.507758</td>\n",
       "      <td>-66.770707</td>\n",
       "      <td>EM</td>\n",
       "      <td>13.860653</td>\n",
       "    </tr>\n",
       "    <tr>\n",
       "      <th>6</th>\n",
       "      <td>WISE J053323.01-673059.8</td>\n",
       "      <td>83.345961</td>\n",
       "      <td>-67.516699</td>\n",
       "      <td>EM</td>\n",
       "      <td>13.637502</td>\n",
       "    </tr>\n",
       "    <tr>\n",
       "      <th>7</th>\n",
       "      <td>WISE J053424.65-662557.5</td>\n",
       "      <td>83.602704</td>\n",
       "      <td>-66.432664</td>\n",
       "      <td>EM</td>\n",
       "      <td>13.660733</td>\n",
       "    </tr>\n",
       "    <tr>\n",
       "      <th>8</th>\n",
       "      <td>2MASS J05362506-7012222</td>\n",
       "      <td>84.104532</td>\n",
       "      <td>-70.206180</td>\n",
       "      <td>EM</td>\n",
       "      <td>16.012371</td>\n",
       "    </tr>\n",
       "    <tr>\n",
       "      <th>9</th>\n",
       "      <td>TYC 3740-1791-1</td>\n",
       "      <td>67.040642</td>\n",
       "      <td>56.984493</td>\n",
       "      <td>EM</td>\n",
       "      <td>10.764656</td>\n",
       "    </tr>\n",
       "    <tr>\n",
       "      <th>10</th>\n",
       "      <td>TYC 2670-214-1</td>\n",
       "      <td>299.608643</td>\n",
       "      <td>31.811638</td>\n",
       "      <td>EM</td>\n",
       "      <td>11.336642</td>\n",
       "    </tr>\n",
       "  </tbody>\n",
       "</table>\n",
       "</div>"
      ],
      "text/plain": [
       "                        Name          RA        Dec Class       Gmag\n",
       "0   WISE J045451.56-670203.9   73.714861 -67.034497    EM  14.046777\n",
       "1   WISE J045550.56-695807.0   73.960641 -69.968616    EM  13.954285\n",
       "2   WISE J045719.13-673047.0   74.329243 -67.513090    EM  14.631564\n",
       "3   WISE J050128.62-701120.2   75.369061 -70.188978    EM  13.878529\n",
       "4   WISE J052915.30-671259.8   82.313739 -67.216612    EM  13.706032\n",
       "5   WISE J053001.84-664614.4   82.507758 -66.770707    EM  13.860653\n",
       "6   WISE J053323.01-673059.8   83.345961 -67.516699    EM  13.637502\n",
       "7   WISE J053424.65-662557.5   83.602704 -66.432664    EM  13.660733\n",
       "8    2MASS J05362506-7012222   84.104532 -70.206180    EM  16.012371\n",
       "9            TYC 3740-1791-1   67.040642  56.984493    EM  10.764656\n",
       "10            TYC 2670-214-1  299.608643  31.811638    EM  11.336642"
      ]
     },
     "execution_count": 44,
     "metadata": {},
     "output_type": "execute_result"
    }
   ],
   "source": [
    "\n",
    "\n",
    "ctfFinal.to_csv('COSMOS_Hot_Bright_Targets_Take4.csv',index = False, na_rep=\"NAN!\")\n",
    "\n",
    "tsi = pd.read_csv ('COSMOS_Hot_Bright_Targets_Take4.csv')\n",
    "tsi\n",
    "#type (tsi)"
   ]
  },
  {
   "cell_type": "code",
   "execution_count": 45,
   "metadata": {},
   "outputs": [
    {
     "ename": "FileNotFoundError",
     "evalue": "[Errno 2] No such file or directory: 'COSMOS_Hot_Bright_Targets_Interest_Order - cosmos_all_targets_decimal.csv'",
     "output_type": "error",
     "traceback": [
      "\u001b[0;31m---------------------------------------------------------------------------\u001b[0m",
      "\u001b[0;31mFileNotFoundError\u001b[0m                         Traceback (most recent call last)",
      "\u001b[0;32m<ipython-input-45-95eb87826d25>\u001b[0m in \u001b[0;36m<module>\u001b[0;34m\u001b[0m\n\u001b[0;32m----> 1\u001b[0;31m \u001b[0mtsi2\u001b[0m\u001b[0;34m=\u001b[0m \u001b[0mpd\u001b[0m\u001b[0;34m.\u001b[0m\u001b[0mread_csv\u001b[0m \u001b[0;34m(\u001b[0m\u001b[0;34m'COSMOS_Hot_Bright_Targets_Interest_Order - cosmos_all_targets_decimal.csv'\u001b[0m\u001b[0;34m)\u001b[0m\u001b[0;34m\u001b[0m\u001b[0;34m\u001b[0m\u001b[0m\n\u001b[0m\u001b[1;32m      2\u001b[0m \u001b[0mtsi2\u001b[0m\u001b[0;34m\u001b[0m\u001b[0;34m\u001b[0m\u001b[0m\n",
      "\u001b[0;32m/opt/conda/lib/python3.7/site-packages/pandas/io/parsers.py\u001b[0m in \u001b[0;36mread_csv\u001b[0;34m(filepath_or_buffer, sep, delimiter, header, names, index_col, usecols, squeeze, prefix, mangle_dupe_cols, dtype, engine, converters, true_values, false_values, skipinitialspace, skiprows, skipfooter, nrows, na_values, keep_default_na, na_filter, verbose, skip_blank_lines, parse_dates, infer_datetime_format, keep_date_col, date_parser, dayfirst, cache_dates, iterator, chunksize, compression, thousands, decimal, lineterminator, quotechar, quoting, doublequote, escapechar, comment, encoding, dialect, error_bad_lines, warn_bad_lines, delim_whitespace, low_memory, memory_map, float_precision)\u001b[0m\n\u001b[1;32m    684\u001b[0m     )\n\u001b[1;32m    685\u001b[0m \u001b[0;34m\u001b[0m\u001b[0m\n\u001b[0;32m--> 686\u001b[0;31m     \u001b[0;32mreturn\u001b[0m \u001b[0m_read\u001b[0m\u001b[0;34m(\u001b[0m\u001b[0mfilepath_or_buffer\u001b[0m\u001b[0;34m,\u001b[0m \u001b[0mkwds\u001b[0m\u001b[0;34m)\u001b[0m\u001b[0;34m\u001b[0m\u001b[0;34m\u001b[0m\u001b[0m\n\u001b[0m\u001b[1;32m    687\u001b[0m \u001b[0;34m\u001b[0m\u001b[0m\n\u001b[1;32m    688\u001b[0m \u001b[0;34m\u001b[0m\u001b[0m\n",
      "\u001b[0;32m/opt/conda/lib/python3.7/site-packages/pandas/io/parsers.py\u001b[0m in \u001b[0;36m_read\u001b[0;34m(filepath_or_buffer, kwds)\u001b[0m\n\u001b[1;32m    450\u001b[0m \u001b[0;34m\u001b[0m\u001b[0m\n\u001b[1;32m    451\u001b[0m     \u001b[0;31m# Create the parser.\u001b[0m\u001b[0;34m\u001b[0m\u001b[0;34m\u001b[0m\u001b[0;34m\u001b[0m\u001b[0m\n\u001b[0;32m--> 452\u001b[0;31m     \u001b[0mparser\u001b[0m \u001b[0;34m=\u001b[0m \u001b[0mTextFileReader\u001b[0m\u001b[0;34m(\u001b[0m\u001b[0mfp_or_buf\u001b[0m\u001b[0;34m,\u001b[0m \u001b[0;34m**\u001b[0m\u001b[0mkwds\u001b[0m\u001b[0;34m)\u001b[0m\u001b[0;34m\u001b[0m\u001b[0;34m\u001b[0m\u001b[0m\n\u001b[0m\u001b[1;32m    453\u001b[0m \u001b[0;34m\u001b[0m\u001b[0m\n\u001b[1;32m    454\u001b[0m     \u001b[0;32mif\u001b[0m \u001b[0mchunksize\u001b[0m \u001b[0;32mor\u001b[0m \u001b[0miterator\u001b[0m\u001b[0;34m:\u001b[0m\u001b[0;34m\u001b[0m\u001b[0;34m\u001b[0m\u001b[0m\n",
      "\u001b[0;32m/opt/conda/lib/python3.7/site-packages/pandas/io/parsers.py\u001b[0m in \u001b[0;36m__init__\u001b[0;34m(self, f, engine, **kwds)\u001b[0m\n\u001b[1;32m    944\u001b[0m             \u001b[0mself\u001b[0m\u001b[0;34m.\u001b[0m\u001b[0moptions\u001b[0m\u001b[0;34m[\u001b[0m\u001b[0;34m\"has_index_names\"\u001b[0m\u001b[0;34m]\u001b[0m \u001b[0;34m=\u001b[0m \u001b[0mkwds\u001b[0m\u001b[0;34m[\u001b[0m\u001b[0;34m\"has_index_names\"\u001b[0m\u001b[0;34m]\u001b[0m\u001b[0;34m\u001b[0m\u001b[0;34m\u001b[0m\u001b[0m\n\u001b[1;32m    945\u001b[0m \u001b[0;34m\u001b[0m\u001b[0m\n\u001b[0;32m--> 946\u001b[0;31m         \u001b[0mself\u001b[0m\u001b[0;34m.\u001b[0m\u001b[0m_make_engine\u001b[0m\u001b[0;34m(\u001b[0m\u001b[0mself\u001b[0m\u001b[0;34m.\u001b[0m\u001b[0mengine\u001b[0m\u001b[0;34m)\u001b[0m\u001b[0;34m\u001b[0m\u001b[0;34m\u001b[0m\u001b[0m\n\u001b[0m\u001b[1;32m    947\u001b[0m \u001b[0;34m\u001b[0m\u001b[0m\n\u001b[1;32m    948\u001b[0m     \u001b[0;32mdef\u001b[0m \u001b[0mclose\u001b[0m\u001b[0;34m(\u001b[0m\u001b[0mself\u001b[0m\u001b[0;34m)\u001b[0m\u001b[0;34m:\u001b[0m\u001b[0;34m\u001b[0m\u001b[0;34m\u001b[0m\u001b[0m\n",
      "\u001b[0;32m/opt/conda/lib/python3.7/site-packages/pandas/io/parsers.py\u001b[0m in \u001b[0;36m_make_engine\u001b[0;34m(self, engine)\u001b[0m\n\u001b[1;32m   1176\u001b[0m     \u001b[0;32mdef\u001b[0m \u001b[0m_make_engine\u001b[0m\u001b[0;34m(\u001b[0m\u001b[0mself\u001b[0m\u001b[0;34m,\u001b[0m \u001b[0mengine\u001b[0m\u001b[0;34m=\u001b[0m\u001b[0;34m\"c\"\u001b[0m\u001b[0;34m)\u001b[0m\u001b[0;34m:\u001b[0m\u001b[0;34m\u001b[0m\u001b[0;34m\u001b[0m\u001b[0m\n\u001b[1;32m   1177\u001b[0m         \u001b[0;32mif\u001b[0m \u001b[0mengine\u001b[0m \u001b[0;34m==\u001b[0m \u001b[0;34m\"c\"\u001b[0m\u001b[0;34m:\u001b[0m\u001b[0;34m\u001b[0m\u001b[0;34m\u001b[0m\u001b[0m\n\u001b[0;32m-> 1178\u001b[0;31m             \u001b[0mself\u001b[0m\u001b[0;34m.\u001b[0m\u001b[0m_engine\u001b[0m \u001b[0;34m=\u001b[0m \u001b[0mCParserWrapper\u001b[0m\u001b[0;34m(\u001b[0m\u001b[0mself\u001b[0m\u001b[0;34m.\u001b[0m\u001b[0mf\u001b[0m\u001b[0;34m,\u001b[0m \u001b[0;34m**\u001b[0m\u001b[0mself\u001b[0m\u001b[0;34m.\u001b[0m\u001b[0moptions\u001b[0m\u001b[0;34m)\u001b[0m\u001b[0;34m\u001b[0m\u001b[0;34m\u001b[0m\u001b[0m\n\u001b[0m\u001b[1;32m   1179\u001b[0m         \u001b[0;32melse\u001b[0m\u001b[0;34m:\u001b[0m\u001b[0;34m\u001b[0m\u001b[0;34m\u001b[0m\u001b[0m\n\u001b[1;32m   1180\u001b[0m             \u001b[0;32mif\u001b[0m \u001b[0mengine\u001b[0m \u001b[0;34m==\u001b[0m \u001b[0;34m\"python\"\u001b[0m\u001b[0;34m:\u001b[0m\u001b[0;34m\u001b[0m\u001b[0;34m\u001b[0m\u001b[0m\n",
      "\u001b[0;32m/opt/conda/lib/python3.7/site-packages/pandas/io/parsers.py\u001b[0m in \u001b[0;36m__init__\u001b[0;34m(self, src, **kwds)\u001b[0m\n\u001b[1;32m   2006\u001b[0m         \u001b[0mkwds\u001b[0m\u001b[0;34m[\u001b[0m\u001b[0;34m\"usecols\"\u001b[0m\u001b[0;34m]\u001b[0m \u001b[0;34m=\u001b[0m \u001b[0mself\u001b[0m\u001b[0;34m.\u001b[0m\u001b[0musecols\u001b[0m\u001b[0;34m\u001b[0m\u001b[0;34m\u001b[0m\u001b[0m\n\u001b[1;32m   2007\u001b[0m \u001b[0;34m\u001b[0m\u001b[0m\n\u001b[0;32m-> 2008\u001b[0;31m         \u001b[0mself\u001b[0m\u001b[0;34m.\u001b[0m\u001b[0m_reader\u001b[0m \u001b[0;34m=\u001b[0m \u001b[0mparsers\u001b[0m\u001b[0;34m.\u001b[0m\u001b[0mTextReader\u001b[0m\u001b[0;34m(\u001b[0m\u001b[0msrc\u001b[0m\u001b[0;34m,\u001b[0m \u001b[0;34m**\u001b[0m\u001b[0mkwds\u001b[0m\u001b[0;34m)\u001b[0m\u001b[0;34m\u001b[0m\u001b[0;34m\u001b[0m\u001b[0m\n\u001b[0m\u001b[1;32m   2009\u001b[0m         \u001b[0mself\u001b[0m\u001b[0;34m.\u001b[0m\u001b[0munnamed_cols\u001b[0m \u001b[0;34m=\u001b[0m \u001b[0mself\u001b[0m\u001b[0;34m.\u001b[0m\u001b[0m_reader\u001b[0m\u001b[0;34m.\u001b[0m\u001b[0munnamed_cols\u001b[0m\u001b[0;34m\u001b[0m\u001b[0;34m\u001b[0m\u001b[0m\n\u001b[1;32m   2010\u001b[0m \u001b[0;34m\u001b[0m\u001b[0m\n",
      "\u001b[0;32mpandas/_libs/parsers.pyx\u001b[0m in \u001b[0;36mpandas._libs.parsers.TextReader.__cinit__\u001b[0;34m()\u001b[0m\n",
      "\u001b[0;32mpandas/_libs/parsers.pyx\u001b[0m in \u001b[0;36mpandas._libs.parsers.TextReader._setup_parser_source\u001b[0;34m()\u001b[0m\n",
      "\u001b[0;31mFileNotFoundError\u001b[0m: [Errno 2] No such file or directory: 'COSMOS_Hot_Bright_Targets_Interest_Order - cosmos_all_targets_decimal.csv'"
     ]
    }
   ],
   "source": [
    "tsi2= pd.read_csv ('COSMOS_Hot_Bright_Targets_Interest_Order - cosmos_all_targets_decimal.csv')\n",
    "tsi2"
   ]
  }
 ],
 "metadata": {
  "kernelspec": {
   "display_name": "Python 3",
   "language": "python",
   "name": "python3"
  },
  "language_info": {
   "codemirror_mode": {
    "name": "ipython",
    "version": 3
   },
   "file_extension": ".py",
   "mimetype": "text/x-python",
   "name": "python",
   "nbconvert_exporter": "python",
   "pygments_lexer": "ipython3",
   "version": "3.7.8"
  }
 },
 "nbformat": 4,
 "nbformat_minor": 4
}

{
 "cells": [
  {
   "cell_type": "code",
   "execution_count": null,
   "id": "d7d3de55",
   "metadata": {},
   "outputs": [],
   "source": [
    "from astroquery.simbad import Simbad\n",
    "import pandas as pd\n",
    "\n",
    "# Set the Simbad database to use\n",
    "Simbad.add_votable_fields('otypes')\n",
    "\n",
    "# Query for variable stars\n",
    "result_table = Simbad.query_criteria('otypes = Be\"')\n",
    "\n",
    "# Check for no results\n",
    "if result_table is not None:\n",
    "    # Convert the query results to a Pandas DataFrame\n",
    "    df = result_table.to_pandas()\n",
    "\n",
    "    # Save the DataFrame as a CSV file\n",
    "    df.to_csv('variable_stars.csv', index=False)\n",
    "\n",
    "    # Print the DataFrame to the console\n",
    "    print(df)\n",
    "else:\n",
    "    print(\"No variable stars found in the database.\")\n"
   ]
  },
  {
   "cell_type": "code",
   "execution_count": null,
   "id": "dae29aec",
   "metadata": {},
   "outputs": [],
   "source": []
  }
 ],
 "metadata": {
  "kernelspec": {
   "display_name": "Python (.conda-my_enviroment)",
   "language": "python",
   "name": "conda-env-.conda-my_enviroment-py"
  },
  "language_info": {
   "codemirror_mode": {
    "name": "ipython",
    "version": 3
   },
   "file_extension": ".py",
   "mimetype": "text/x-python",
   "name": "python",
   "nbconvert_exporter": "python",
   "pygments_lexer": "ipython3",
   "version": "3.8.6"
  }
 },
 "nbformat": 4,
 "nbformat_minor": 5
}

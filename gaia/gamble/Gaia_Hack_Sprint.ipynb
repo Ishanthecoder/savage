{
 "cells": [
  {
   "cell_type": "code",
   "execution_count": 1,
   "id": "763f26bc-3b26-4570-86cd-5c9ea14e7fb1",
   "metadata": {},
   "outputs": [],
   "source": [
    "from astroquery.gaia import Gaia\n",
    "Gaia.MAIN_GAIA_TABLE = \"gaiaedr3.gaia_source\" # Select early Data Release 3 over default 1\n"
   ]
  },
  {
   "cell_type": "code",
   "execution_count": 2,
   "id": "2d5474e4-20b1-4f63-ba00-ce5a8ab6aa15",
   "metadata": {},
   "outputs": [
    {
     "name": "stdout",
     "output_type": "stream",
     "text": [
      "INFO: Query finished. [astroquery.utils.tap.core]\n",
      "         dist             solution_id     ...       ecl_lat      \n",
      "                                          ...         deg        \n",
      "--------------------- ------------------- ... -------------------\n",
      "0.0026043272506403484 1636042515805110273 ... -36.779153025899156\n",
      " 0.003361667853091105 1636042515805110273 ...  -36.77612063074377\n",
      " 0.003849880182859702 1636042515805110273 ... -36.773896878533364\n",
      "  0.00442260392058112 1636042515805110273 ...  -36.77354465982053\n",
      " 0.004545515007406694 1636042515805110273 ...  -36.77264685813643\n",
      " 0.005613919982422015 1636042515805110273 ...  -36.78149005047698\n",
      " 0.005845777923111196 1636042515805110273 ... -36.770815446511165\n",
      " 0.006210490970144272 1636042515805110273 ... -36.780590436792906\n",
      " 0.007466944025534964 1636042515805110273 ...  -36.78075237067827\n",
      " 0.008202141108698756 1636042515805110273 ... -36.784730568948355\n",
      "                  ...                 ... ...                 ...\n",
      " 0.017605277909942374 1636042515805110273 ... -36.779253889998095\n",
      " 0.018239488861900206 1636042515805110273 ...  -36.76031315265426\n",
      "  0.01916407081992033 1636042515805110273 ...  -36.76378063536781\n",
      "  0.01943430820676234 1636042515805110273 ... -36.795832845908336\n",
      " 0.019464432830698014 1636042515805110273 ...  -36.78424405986186\n",
      " 0.019469003316035648 1636042515805110273 ...  -36.79601731770826\n",
      " 0.019751317240130007 1636042515805110273 ...  -36.75726114587935\n",
      " 0.019916769172899088 1636042515805110273 ...  -36.77489201340432\n",
      "  0.01996738804835807 1636042515805110273 ...  -36.79611144667456\n",
      "  0.02014989324906447 1636042515805110273 ...   -36.7845886881819\n",
      "Length = 50 rows\n"
     ]
    }
   ],
   "source": [
    "import astropy.units as u\n",
    "from astropy.coordinates import SkyCoord\n",
    "import pandas as pd\n",
    "import numpy as np\n",
    "\n",
    "coord = SkyCoord(ra=280, dec=-60, unit=(u.degree, u.degree), frame='icrs')\n",
    "width = u.Quantity(1.0, u.deg)\n",
    "height = u.Quantity(1.0, u.deg)\n",
    "r = Gaia.query_object_async(coordinate=coord, width=width, height=height)\n",
    "\n",
    "print (r)"
   ]
  },
  {
   "cell_type": "code",
   "execution_count": 3,
   "id": "570b57ad-58ef-4f1b-8793-0db85fda5e9d",
   "metadata": {},
   "outputs": [
    {
     "name": "stdout",
     "output_type": "stream",
     "text": [
      "Retrieving table 'gaiadr3.gaia_source'\n",
      "TAP Table name: gaiadr3.gaiadr3.gaia_source\n",
      "Description: This table has an entry for every Gaia observed source as published with this data release. It contains the basic source parameters, in their final state as processed by the Gaia Data Processing and Analysis Consortium from the raw data coming from the spacecraft. The table is complemented with others containing information specific to certain kinds of objects (e.g.~Solar--system objects, non--single stars, variables etc.) and value--added processing (e.g.~astrophysical parameters etc.). Further array data types (spectra, epoch measurements) are presented separately via Datalink resources.\n",
      "Num. columns: 152\n"
     ]
    }
   ],
   "source": [
    "\n",
    "gaiadr3_table = Gaia.load_table('gaiadr3.gaia_source')\n",
    "#Retrieving table 'gaiadr3.gaia_source'\n",
    "print(gaiadr3_table)"
   ]
  },
  {
   "cell_type": "code",
   "execution_count": 4,
   "id": "816ef3f0-b1f7-4c1f-8dd1-cf6dd8dec58c",
   "metadata": {},
   "outputs": [],
   "source": [
    "# for column in gaiadr3_table.columns:\n",
    "#     print(column.name)\n",
    "# GD3 = pd.DataFrame(data= gaiadr3_table)\n"
   ]
  },
  {
   "cell_type": "code",
   "execution_count": 5,
   "id": "4e6c18bf-909d-430e-a9de-d93a24a7ac42",
   "metadata": {},
   "outputs": [
    {
     "ename": "FileNotFoundError",
     "evalue": "[Errno 2] No such file or directory: 'Joined_GDR3_3-result.csv'",
     "output_type": "error",
     "traceback": [
      "\u001b[1;31m---------------------------------------------------------------------------\u001b[0m",
      "\u001b[1;31mFileNotFoundError\u001b[0m                         Traceback (most recent call last)",
      "\u001b[1;32m~\\AppData\\Local\\Temp/ipykernel_17956/3647882823.py\u001b[0m in \u001b[0;36m<module>\u001b[1;34m\u001b[0m\n\u001b[1;32m----> 1\u001b[1;33m \u001b[0mGaia_Result\u001b[0m \u001b[1;33m=\u001b[0m \u001b[0mpd\u001b[0m\u001b[1;33m.\u001b[0m\u001b[0mread_csv\u001b[0m\u001b[1;33m(\u001b[0m\u001b[1;34m\"Joined_GDR3_3-result.csv\"\u001b[0m\u001b[1;33m)\u001b[0m\u001b[1;33m\u001b[0m\u001b[1;33m\u001b[0m\u001b[0m\n\u001b[0m\u001b[0;32m      2\u001b[0m \u001b[0mAbs_Mag\u001b[0m \u001b[1;33m=\u001b[0m \u001b[0mGaia_Result\u001b[0m\u001b[1;33m[\u001b[0m\u001b[1;34m\"phot_g_mean_mag\"\u001b[0m\u001b[1;33m]\u001b[0m \u001b[1;33m-\u001b[0m \u001b[1;36m5\u001b[0m\u001b[1;33m*\u001b[0m\u001b[0mnp\u001b[0m\u001b[1;33m.\u001b[0m\u001b[0mlog10\u001b[0m\u001b[1;33m(\u001b[0m\u001b[1;36m1000\u001b[0m\u001b[1;33m/\u001b[0m\u001b[0mGaia_Result\u001b[0m\u001b[1;33m[\u001b[0m\u001b[1;34m\"parallax\"\u001b[0m\u001b[1;33m]\u001b[0m\u001b[1;33m)\u001b[0m \u001b[1;33m+\u001b[0m \u001b[1;36m5\u001b[0m\u001b[1;33m\u001b[0m\u001b[1;33m\u001b[0m\u001b[0m\n\u001b[0;32m      3\u001b[0m \u001b[0mGaia_Result\u001b[0m\u001b[1;33m.\u001b[0m\u001b[0mloc\u001b[0m\u001b[1;33m[\u001b[0m\u001b[1;33m:\u001b[0m\u001b[1;33m,\u001b[0m\u001b[1;34m\"Abs_g_Mag\"\u001b[0m\u001b[1;33m]\u001b[0m\u001b[1;33m=\u001b[0m\u001b[0mAbs_Mag\u001b[0m\u001b[1;33m\u001b[0m\u001b[1;33m\u001b[0m\u001b[0m\n",
      "\u001b[1;32mC:\\JupyterLab\\resources\\jlab_server\\lib\\site-packages\\pandas\\util\\_decorators.py\u001b[0m in \u001b[0;36mwrapper\u001b[1;34m(*args, **kwargs)\u001b[0m\n\u001b[0;32m    309\u001b[0m                     \u001b[0mstacklevel\u001b[0m\u001b[1;33m=\u001b[0m\u001b[0mstacklevel\u001b[0m\u001b[1;33m,\u001b[0m\u001b[1;33m\u001b[0m\u001b[1;33m\u001b[0m\u001b[0m\n\u001b[0;32m    310\u001b[0m                 )\n\u001b[1;32m--> 311\u001b[1;33m             \u001b[1;32mreturn\u001b[0m \u001b[0mfunc\u001b[0m\u001b[1;33m(\u001b[0m\u001b[1;33m*\u001b[0m\u001b[0margs\u001b[0m\u001b[1;33m,\u001b[0m \u001b[1;33m**\u001b[0m\u001b[0mkwargs\u001b[0m\u001b[1;33m)\u001b[0m\u001b[1;33m\u001b[0m\u001b[1;33m\u001b[0m\u001b[0m\n\u001b[0m\u001b[0;32m    312\u001b[0m \u001b[1;33m\u001b[0m\u001b[0m\n\u001b[0;32m    313\u001b[0m         \u001b[1;32mreturn\u001b[0m \u001b[0mwrapper\u001b[0m\u001b[1;33m\u001b[0m\u001b[1;33m\u001b[0m\u001b[0m\n",
      "\u001b[1;32mC:\\JupyterLab\\resources\\jlab_server\\lib\\site-packages\\pandas\\io\\parsers\\readers.py\u001b[0m in \u001b[0;36mread_csv\u001b[1;34m(filepath_or_buffer, sep, delimiter, header, names, index_col, usecols, squeeze, prefix, mangle_dupe_cols, dtype, engine, converters, true_values, false_values, skipinitialspace, skiprows, skipfooter, nrows, na_values, keep_default_na, na_filter, verbose, skip_blank_lines, parse_dates, infer_datetime_format, keep_date_col, date_parser, dayfirst, cache_dates, iterator, chunksize, compression, thousands, decimal, lineterminator, quotechar, quoting, doublequote, escapechar, comment, encoding, encoding_errors, dialect, error_bad_lines, warn_bad_lines, on_bad_lines, delim_whitespace, low_memory, memory_map, float_precision, storage_options)\u001b[0m\n\u001b[0;32m    584\u001b[0m     \u001b[0mkwds\u001b[0m\u001b[1;33m.\u001b[0m\u001b[0mupdate\u001b[0m\u001b[1;33m(\u001b[0m\u001b[0mkwds_defaults\u001b[0m\u001b[1;33m)\u001b[0m\u001b[1;33m\u001b[0m\u001b[1;33m\u001b[0m\u001b[0m\n\u001b[0;32m    585\u001b[0m \u001b[1;33m\u001b[0m\u001b[0m\n\u001b[1;32m--> 586\u001b[1;33m     \u001b[1;32mreturn\u001b[0m \u001b[0m_read\u001b[0m\u001b[1;33m(\u001b[0m\u001b[0mfilepath_or_buffer\u001b[0m\u001b[1;33m,\u001b[0m \u001b[0mkwds\u001b[0m\u001b[1;33m)\u001b[0m\u001b[1;33m\u001b[0m\u001b[1;33m\u001b[0m\u001b[0m\n\u001b[0m\u001b[0;32m    587\u001b[0m \u001b[1;33m\u001b[0m\u001b[0m\n\u001b[0;32m    588\u001b[0m \u001b[1;33m\u001b[0m\u001b[0m\n",
      "\u001b[1;32mC:\\JupyterLab\\resources\\jlab_server\\lib\\site-packages\\pandas\\io\\parsers\\readers.py\u001b[0m in \u001b[0;36m_read\u001b[1;34m(filepath_or_buffer, kwds)\u001b[0m\n\u001b[0;32m    480\u001b[0m \u001b[1;33m\u001b[0m\u001b[0m\n\u001b[0;32m    481\u001b[0m     \u001b[1;31m# Create the parser.\u001b[0m\u001b[1;33m\u001b[0m\u001b[1;33m\u001b[0m\u001b[1;33m\u001b[0m\u001b[0m\n\u001b[1;32m--> 482\u001b[1;33m     \u001b[0mparser\u001b[0m \u001b[1;33m=\u001b[0m \u001b[0mTextFileReader\u001b[0m\u001b[1;33m(\u001b[0m\u001b[0mfilepath_or_buffer\u001b[0m\u001b[1;33m,\u001b[0m \u001b[1;33m**\u001b[0m\u001b[0mkwds\u001b[0m\u001b[1;33m)\u001b[0m\u001b[1;33m\u001b[0m\u001b[1;33m\u001b[0m\u001b[0m\n\u001b[0m\u001b[0;32m    483\u001b[0m \u001b[1;33m\u001b[0m\u001b[0m\n\u001b[0;32m    484\u001b[0m     \u001b[1;32mif\u001b[0m \u001b[0mchunksize\u001b[0m \u001b[1;32mor\u001b[0m \u001b[0miterator\u001b[0m\u001b[1;33m:\u001b[0m\u001b[1;33m\u001b[0m\u001b[1;33m\u001b[0m\u001b[0m\n",
      "\u001b[1;32mC:\\JupyterLab\\resources\\jlab_server\\lib\\site-packages\\pandas\\io\\parsers\\readers.py\u001b[0m in \u001b[0;36m__init__\u001b[1;34m(self, f, engine, **kwds)\u001b[0m\n\u001b[0;32m    809\u001b[0m             \u001b[0mself\u001b[0m\u001b[1;33m.\u001b[0m\u001b[0moptions\u001b[0m\u001b[1;33m[\u001b[0m\u001b[1;34m\"has_index_names\"\u001b[0m\u001b[1;33m]\u001b[0m \u001b[1;33m=\u001b[0m \u001b[0mkwds\u001b[0m\u001b[1;33m[\u001b[0m\u001b[1;34m\"has_index_names\"\u001b[0m\u001b[1;33m]\u001b[0m\u001b[1;33m\u001b[0m\u001b[1;33m\u001b[0m\u001b[0m\n\u001b[0;32m    810\u001b[0m \u001b[1;33m\u001b[0m\u001b[0m\n\u001b[1;32m--> 811\u001b[1;33m         \u001b[0mself\u001b[0m\u001b[1;33m.\u001b[0m\u001b[0m_engine\u001b[0m \u001b[1;33m=\u001b[0m \u001b[0mself\u001b[0m\u001b[1;33m.\u001b[0m\u001b[0m_make_engine\u001b[0m\u001b[1;33m(\u001b[0m\u001b[0mself\u001b[0m\u001b[1;33m.\u001b[0m\u001b[0mengine\u001b[0m\u001b[1;33m)\u001b[0m\u001b[1;33m\u001b[0m\u001b[1;33m\u001b[0m\u001b[0m\n\u001b[0m\u001b[0;32m    812\u001b[0m \u001b[1;33m\u001b[0m\u001b[0m\n\u001b[0;32m    813\u001b[0m     \u001b[1;32mdef\u001b[0m \u001b[0mclose\u001b[0m\u001b[1;33m(\u001b[0m\u001b[0mself\u001b[0m\u001b[1;33m)\u001b[0m\u001b[1;33m:\u001b[0m\u001b[1;33m\u001b[0m\u001b[1;33m\u001b[0m\u001b[0m\n",
      "\u001b[1;32mC:\\JupyterLab\\resources\\jlab_server\\lib\\site-packages\\pandas\\io\\parsers\\readers.py\u001b[0m in \u001b[0;36m_make_engine\u001b[1;34m(self, engine)\u001b[0m\n\u001b[0;32m   1038\u001b[0m             )\n\u001b[0;32m   1039\u001b[0m         \u001b[1;31m# error: Too many arguments for \"ParserBase\"\u001b[0m\u001b[1;33m\u001b[0m\u001b[1;33m\u001b[0m\u001b[1;33m\u001b[0m\u001b[0m\n\u001b[1;32m-> 1040\u001b[1;33m         \u001b[1;32mreturn\u001b[0m \u001b[0mmapping\u001b[0m\u001b[1;33m[\u001b[0m\u001b[0mengine\u001b[0m\u001b[1;33m]\u001b[0m\u001b[1;33m(\u001b[0m\u001b[0mself\u001b[0m\u001b[1;33m.\u001b[0m\u001b[0mf\u001b[0m\u001b[1;33m,\u001b[0m \u001b[1;33m**\u001b[0m\u001b[0mself\u001b[0m\u001b[1;33m.\u001b[0m\u001b[0moptions\u001b[0m\u001b[1;33m)\u001b[0m  \u001b[1;31m# type: ignore[call-arg]\u001b[0m\u001b[1;33m\u001b[0m\u001b[1;33m\u001b[0m\u001b[0m\n\u001b[0m\u001b[0;32m   1041\u001b[0m \u001b[1;33m\u001b[0m\u001b[0m\n\u001b[0;32m   1042\u001b[0m     \u001b[1;32mdef\u001b[0m \u001b[0m_failover_to_python\u001b[0m\u001b[1;33m(\u001b[0m\u001b[0mself\u001b[0m\u001b[1;33m)\u001b[0m\u001b[1;33m:\u001b[0m\u001b[1;33m\u001b[0m\u001b[1;33m\u001b[0m\u001b[0m\n",
      "\u001b[1;32mC:\\JupyterLab\\resources\\jlab_server\\lib\\site-packages\\pandas\\io\\parsers\\c_parser_wrapper.py\u001b[0m in \u001b[0;36m__init__\u001b[1;34m(self, src, **kwds)\u001b[0m\n\u001b[0;32m     49\u001b[0m \u001b[1;33m\u001b[0m\u001b[0m\n\u001b[0;32m     50\u001b[0m         \u001b[1;31m# open handles\u001b[0m\u001b[1;33m\u001b[0m\u001b[1;33m\u001b[0m\u001b[1;33m\u001b[0m\u001b[0m\n\u001b[1;32m---> 51\u001b[1;33m         \u001b[0mself\u001b[0m\u001b[1;33m.\u001b[0m\u001b[0m_open_handles\u001b[0m\u001b[1;33m(\u001b[0m\u001b[0msrc\u001b[0m\u001b[1;33m,\u001b[0m \u001b[0mkwds\u001b[0m\u001b[1;33m)\u001b[0m\u001b[1;33m\u001b[0m\u001b[1;33m\u001b[0m\u001b[0m\n\u001b[0m\u001b[0;32m     52\u001b[0m         \u001b[1;32massert\u001b[0m \u001b[0mself\u001b[0m\u001b[1;33m.\u001b[0m\u001b[0mhandles\u001b[0m \u001b[1;32mis\u001b[0m \u001b[1;32mnot\u001b[0m \u001b[1;32mNone\u001b[0m\u001b[1;33m\u001b[0m\u001b[1;33m\u001b[0m\u001b[0m\n\u001b[0;32m     53\u001b[0m \u001b[1;33m\u001b[0m\u001b[0m\n",
      "\u001b[1;32mC:\\JupyterLab\\resources\\jlab_server\\lib\\site-packages\\pandas\\io\\parsers\\base_parser.py\u001b[0m in \u001b[0;36m_open_handles\u001b[1;34m(self, src, kwds)\u001b[0m\n\u001b[0;32m    220\u001b[0m         \u001b[0mLet\u001b[0m \u001b[0mthe\u001b[0m \u001b[0mreaders\u001b[0m \u001b[0mopen\u001b[0m \u001b[0mIOHandles\u001b[0m \u001b[0mafter\u001b[0m \u001b[0mthey\u001b[0m \u001b[0mare\u001b[0m \u001b[0mdone\u001b[0m \u001b[1;32mwith\u001b[0m \u001b[0mtheir\u001b[0m \u001b[0mpotential\u001b[0m \u001b[0mraises\u001b[0m\u001b[1;33m.\u001b[0m\u001b[1;33m\u001b[0m\u001b[1;33m\u001b[0m\u001b[0m\n\u001b[0;32m    221\u001b[0m         \"\"\"\n\u001b[1;32m--> 222\u001b[1;33m         self.handles = get_handle(\n\u001b[0m\u001b[0;32m    223\u001b[0m             \u001b[0msrc\u001b[0m\u001b[1;33m,\u001b[0m\u001b[1;33m\u001b[0m\u001b[1;33m\u001b[0m\u001b[0m\n\u001b[0;32m    224\u001b[0m             \u001b[1;34m\"r\"\u001b[0m\u001b[1;33m,\u001b[0m\u001b[1;33m\u001b[0m\u001b[1;33m\u001b[0m\u001b[0m\n",
      "\u001b[1;32mC:\\JupyterLab\\resources\\jlab_server\\lib\\site-packages\\pandas\\io\\common.py\u001b[0m in \u001b[0;36mget_handle\u001b[1;34m(path_or_buf, mode, encoding, compression, memory_map, is_text, errors, storage_options)\u001b[0m\n\u001b[0;32m    700\u001b[0m         \u001b[1;32mif\u001b[0m \u001b[0mioargs\u001b[0m\u001b[1;33m.\u001b[0m\u001b[0mencoding\u001b[0m \u001b[1;32mand\u001b[0m \u001b[1;34m\"b\"\u001b[0m \u001b[1;32mnot\u001b[0m \u001b[1;32min\u001b[0m \u001b[0mioargs\u001b[0m\u001b[1;33m.\u001b[0m\u001b[0mmode\u001b[0m\u001b[1;33m:\u001b[0m\u001b[1;33m\u001b[0m\u001b[1;33m\u001b[0m\u001b[0m\n\u001b[0;32m    701\u001b[0m             \u001b[1;31m# Encoding\u001b[0m\u001b[1;33m\u001b[0m\u001b[1;33m\u001b[0m\u001b[1;33m\u001b[0m\u001b[0m\n\u001b[1;32m--> 702\u001b[1;33m             handle = open(\n\u001b[0m\u001b[0;32m    703\u001b[0m                 \u001b[0mhandle\u001b[0m\u001b[1;33m,\u001b[0m\u001b[1;33m\u001b[0m\u001b[1;33m\u001b[0m\u001b[0m\n\u001b[0;32m    704\u001b[0m                 \u001b[0mioargs\u001b[0m\u001b[1;33m.\u001b[0m\u001b[0mmode\u001b[0m\u001b[1;33m,\u001b[0m\u001b[1;33m\u001b[0m\u001b[1;33m\u001b[0m\u001b[0m\n",
      "\u001b[1;31mFileNotFoundError\u001b[0m: [Errno 2] No such file or directory: 'Joined_GDR3_3-result.csv'"
     ]
    }
   ],
   "source": [
    "Gaia_Result = pd.read_csv(\"G.csv\")\n",
    "Abs_Mag = Gaia_Result[\"phot_g_mean_mag\"] - 5*np.log10(1000/Gaia_Result[\"parallax\"]) + 5 \n",
    "Gaia_Result.loc[:,\"Abs_g_Mag\"]=Abs_Mag"
   ]
  },
  {
   "cell_type": "code",
   "execution_count": null,
   "id": "fa09c88a-b871-4ca1-a520-721aae6f1d63",
   "metadata": {},
   "outputs": [],
   "source": []
  },
  {
   "cell_type": "code",
   "execution_count": null,
   "id": "5b689845-9502-42ef-89dd-bce225991dd6",
   "metadata": {},
   "outputs": [],
   "source": [
    "Gaia_Result"
   ]
  },
  {
   "cell_type": "code",
   "execution_count": null,
   "id": "47964bf2-b9a5-4bc4-8563-0dbe5b5028f5",
   "metadata": {},
   "outputs": [],
   "source": [
    "Abs_Mag"
   ]
  },
  {
   "cell_type": "code",
   "execution_count": null,
   "id": "d7e76629-9203-406c-a378-53f68ebfac97",
   "metadata": {},
   "outputs": [],
   "source": [
    "\n",
    "Gaia_Result"
   ]
  },
  {
   "cell_type": "code",
   "execution_count": null,
   "id": "409455e0-5979-428a-86bc-7f3612dbccdb",
   "metadata": {},
   "outputs": [],
   "source": [
    "from matplotlib import pyplot as plt\n",
    "x = Gaia_Result[\"bp_rp\"]\n",
    "y = Gaia_Result[\"Abs_g_Mag\"]\n",
    "plt.plot(x,y)\n",
    "plt.show"
   ]
  },
  {
   "cell_type": "code",
   "execution_count": null,
   "id": "df12a357-5a18-493a-b20f-e1653f70ec8c",
   "metadata": {},
   "outputs": [],
   "source": [
    "fig, axes = plt.subplots(1, 1, figsize=(16, 10),dpi=300)\n",
    "axes.set_title(\"Plot !\",color='Gold')\n",
    "axes.set_xlabel(\"Color\",color='gold') \n",
    "axes.set_ylabel(\"Magnitude\", color='gold') \n",
    "axes.invert_yaxis()\n",
    "    #plt.figure(facecolor='Black')\n",
    "axes.set_facecolor('Black')\n",
    "axes.scatter(x,y,color='mediumspringgreen')"
   ]
  },
  {
   "cell_type": "code",
   "execution_count": null,
   "id": "b3f29009-2938-436f-a4dc-99d2ef8fc205",
   "metadata": {},
   "outputs": [],
   "source": [
    "# Import the tool\n",
    "from gaiaxpy import calibrate\n",
    "import pylab as lab\n",
    "import sys\n",
    "import time\n",
    "from specutils import Spectrum1D\n",
    "import astropy.units as u\n",
    "from specutils.manipulation import (box_smooth, gaussian_smooth, trapezoid_smooth)\n",
    "# Path to file with XP CONTINUOUS RAW data (csv, ecsv, fits, or xml)\n",
    "f = \"XP_CONTINUOUS_RAW.csv\"\n",
    "calibrated_spectra, sampling = calibrate(f)\n",
    "wave = sampling\n",
    "flux = calibrated_spectra[\"flux\"]"
   ]
  },
  {
   "cell_type": "code",
   "execution_count": null,
   "id": "de0d8446-8f2d-46d2-89cb-4f9b6c83ea79",
   "metadata": {},
   "outputs": [],
   "source": [
    "plt.plot(wave,flux[0])"
   ]
  },
  {
   "cell_type": "code",
   "execution_count": null,
   "id": "ee5ef930-4fa2-4dfd-b567-b98e443338ae",
   "metadata": {},
   "outputs": [],
   "source": [
    "CaTriplet3Wave=866.2 \n",
    "CaTriplet2Wave=854.2\n",
    "CaTriplet1Wave=849.8\n",
    "H_AlphaWave=656.3\n",
    "NaDoublet2Wave=589.5\n",
    "NaDoublet1Wave=589.0\n",
    "H_BetaWave=486.1\n",
    "H_GammaWave=434.0\n",
    "G_BandWave=430.8\n",
    "FeWave=432.5\n",
    "\n",
    "waves=wave\n",
    "fluxs=flux[0]\n",
    "guassFactor = 25\n",
    "\n",
    "spec1d = Spectrum1D(spectral_axis=waves*u.AA, flux = fluxs*u.Jy)\n",
    "\n",
    "spec1_bsmooth = box_smooth(spec1d, width=3)\n",
    "spec1_gsmooth = gaussian_smooth(spec1d, stddev=guassFactor)\n",
    "spec1_tsmooth = trapezoid_smooth(spec1d, width=3)"
   ]
  },
  {
   "cell_type": "code",
   "execution_count": null,
   "id": "4d54eebd-696c-44c1-af6e-2d210cbec54d",
   "metadata": {},
   "outputs": [],
   "source": [
    "\n",
    "#print(Focus)\n",
    "# global title\n",
    "# global waveG\n",
    "# global fluxG\n",
    "#focus=Focus\n",
    "\n",
    "V= Gaia_Result[\"radial_velocity\"]\n",
    "\n",
    "leftLim = 360\n",
    "rightLim = 1043\n",
    "lw = 0.5\n",
    "\n",
    "starGuess = \"IDK!\"\n",
    "x = wave\n",
    "y=flux[0]*(1+V/(const.c.cgs)\n",
    "fig = plt.figure(figsize=(24, 7),dpi=300)\n",
    "axes=fig.gca()\n",
    "axes.set_title(\"I don't know\",color='Gold')\n",
    "axes.set_xlabel(\"Wave\",color='gold') \n",
    "axes.set_ylabel(\"Flux\", color='gold') \n",
    "plt.figure(facecolor='Black')\n",
    "axes.set_facecolor('Black')\n",
    "\n",
    "\n",
    "\n",
    "axes.axvline(x=CaTriplet3Wave,color=\"magenta\",linewidth=lw)#Ca Triplet 3\n",
    "\n",
    "axes.axvline(x=CaTriplet2Wave,color=\"magenta\",linewidth=lw)#Ca Triplet 2\n",
    "\n",
    "axes.axvline(x=CaTriplet1Wave,color=\"magenta\",linewidth=lw)#Ca Triplet 1\n",
    "\n",
    "axes.text(862,np.mean(flux[0]),\"Ca Triplet\" ,fontweight='bold',color =\"magenta\")\n",
    "\n",
    "axes.axvline(x=H_AlphaWave,color=\"violet\",linewidth=lw,)#Ha\n",
    "axes.text(656.5,np.mean(flux[0]), \" H-α\",color=\"violet\")\n",
    "\n",
    "axes.axvline(x=NaDoublet2Wave,color=\"deepskyblue\",linewidth=lw)#Na Doublet 2\n",
    "axes.axvline(x=NaDoublet1Wave,color=\"deepskyblue\",linewidth=lw)#Na Doublet 1\n",
    "axes.text(590,np.mean(flux[0]),\"Na Doublet\", color =\"deepskyblue\")\n",
    "\n",
    "axes.axvline(x=H_BetaWave,color=\"lime\",linewidth=lw)#Hb\n",
    "axes.text(486.5,np.mean(flux[0]), \"H-β\", color=\"lime\")\n",
    "\n",
    "axes.axvline(x=H_GammaWave,color=\"darkgoldenrod\",linewidth=lw)#Hg\n",
    "axes.text(434.2,np.mean(flux[0]), \"H-γ\", color=\"darkgoldenrod\") \n",
    "\n",
    "axes.axvline(x=G_BandWave,color=\"Red\",linewidth=lw)# G-Band(?)\n",
    "    \n",
    "axes.text(408.0,np.mean(flux[0]),\"G-band\",color=\"Red\") # double check this is actually the g-band\n",
    "   \n",
    "\n",
    "axes.axvline(x=FeWave,color=\"coral\",linewidth=lw)#Fe\n",
    "axes.text(433,np.mean(flux[0]),\"Fe 432.5\",color=\"coral\") \n",
    "axes.set_xlim(leftLim,rightLim)\n",
    "axes.plot(x,y)\n",
    "\n",
    "\n",
    "plt.show\n",
    "\n",
    "#return waveG \n",
    "#return fluxG\n",
    "#return lw\n",
    "#return title"
   ]
  },
  {
   "cell_type": "code",
   "execution_count": null,
   "id": "d99484ad-91f3-4b3e-87fa-b936a5c3aea0",
   "metadata": {},
   "outputs": [],
   "source": [
    "x\n",
    "y"
   ]
  },
  {
   "cell_type": "code",
   "execution_count": null,
   "id": "57457646-ef92-416e-9304-34e5e0288f74",
   "metadata": {},
   "outputs": [],
   "source": [
    "x\n"
   ]
  },
  {
   "cell_type": "code",
   "execution_count": null,
   "id": "285b0e9c-1ae4-4e04-a2bf-21e857e8e540",
   "metadata": {},
   "outputs": [],
   "source": []
  }
 ],
 "metadata": {
  "kernelspec": {
   "display_name": "Python 3 (LSST 2020)",
   "language": "python",
   "name": "python3"
  },
  "language_info": {
   "codemirror_mode": {
    "name": "ipython",
    "version": 3
   },
   "file_extension": ".py",
   "mimetype": "text/x-python",
   "name": "python",
   "nbconvert_exporter": "python",
   "pygments_lexer": "ipython3",
   "version": "3.7.6"
  }
 },
 "nbformat": 4,
 "nbformat_minor": 5
}

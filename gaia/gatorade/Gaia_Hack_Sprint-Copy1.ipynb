{
 "cells": [
  {
   "cell_type": "code",
   "execution_count": null,
   "id": "763f26bc-3b26-4570-86cd-5c9ea14e7fb1",
   "metadata": {},
   "outputs": [],
   "source": [
    "#This is a copy in gatorade \n",
    "from astroquery.gaia import Gaia\n",
    "Gaia.MAIN_GAIA_TABLE = \"gaiaedr3.gaia_source\" # Select early Data Release 3 over default 1\n"
   ]
  },
  {
   "cell_type": "code",
   "execution_count": null,
   "id": "2d5474e4-20b1-4f63-ba00-ce5a8ab6aa15",
   "metadata": {},
   "outputs": [],
   "source": [
    "import astropy.units as u\n",
    "from astropy.coordinates import SkyCoord\n",
    "import pandas as pd\n",
    "import numpy as np\n",
    "\n",
    "coord = SkyCoord(ra=280, dec=-60, unit=(u.degree, u.degree), frame='icrs')\n",
    "width = u.Quantity(1.0, u.deg)\n",
    "height = u.Quantity(1.0, u.deg)\n",
    "r = Gaia.query_object_async(coordinate=coord, width=width, height=height)\n",
    "\n",
    "print (r)"
   ]
  },
  {
   "cell_type": "code",
   "execution_count": null,
   "id": "570b57ad-58ef-4f1b-8793-0db85fda5e9d",
   "metadata": {},
   "outputs": [],
   "source": [
    "\n",
    "gaiadr3_table = Gaia.load_table('gaiadr3.gaia_source')\n",
    "#Retrieving table 'gaiadr3.gaia_source'\n",
    "print(gaiadr3_table)"
   ]
  },
  {
   "cell_type": "code",
   "execution_count": null,
   "id": "816ef3f0-b1f7-4c1f-8dd1-cf6dd8dec58c",
   "metadata": {},
   "outputs": [],
   "source": [
    "# for column in gaiadr3_table.columns:\n",
    "#     print(column.name)\n",
    "# GD3 = pd.DataFrame(data= gaiadr3_table)\n"
   ]
  },
  {
   "cell_type": "code",
   "execution_count": null,
   "id": "4e6c18bf-909d-430e-a9de-d93a24a7ac42",
   "metadata": {},
   "outputs": [],
   "source": [
    "Gaia_Result = pd.read_csv(\"Joined_GDR3_3-result.csv\")\n",
    "Abs_Mag = Gaia_Result[\"phot_g_mean_mag\"] - 5*np.log10(1000/Gaia_Result[\"parallax\"]) + 5 \n",
    "Gaia_Result.loc[:,\"Abs_g_Mag\"]=Abs_Mag"
   ]
  },
  {
   "cell_type": "code",
   "execution_count": null,
   "id": "fa09c88a-b871-4ca1-a520-721aae6f1d63",
   "metadata": {},
   "outputs": [],
   "source": []
  },
  {
   "cell_type": "code",
   "execution_count": null,
   "id": "5b689845-9502-42ef-89dd-bce225991dd6",
   "metadata": {},
   "outputs": [],
   "source": [
    "Gaia_Result"
   ]
  },
  {
   "cell_type": "code",
   "execution_count": null,
   "id": "47964bf2-b9a5-4bc4-8563-0dbe5b5028f5",
   "metadata": {},
   "outputs": [],
   "source": [
    "Abs_Mag"
   ]
  },
  {
   "cell_type": "code",
   "execution_count": null,
   "id": "d7e76629-9203-406c-a378-53f68ebfac97",
   "metadata": {},
   "outputs": [],
   "source": [
    "\n",
    "Gaia_Result"
   ]
  },
  {
   "cell_type": "code",
   "execution_count": null,
   "id": "409455e0-5979-428a-86bc-7f3612dbccdb",
   "metadata": {},
   "outputs": [],
   "source": [
    "from matplotlib import pyplot as plt\n",
    "x = Gaia_Result[\"bp_rp\"]\n",
    "y = Gaia_Result[\"Abs_g_Mag\"]\n",
    "plt.plot(x,y)\n",
    "plt.show"
   ]
  },
  {
   "cell_type": "code",
   "execution_count": null,
   "id": "df12a357-5a18-493a-b20f-e1653f70ec8c",
   "metadata": {},
   "outputs": [],
   "source": [
    "fig, axes = plt.subplots(1, 1, figsize=(16, 10),dpi=300)\n",
    "axes.set_title(\"Plot !\",color='Gold')\n",
    "axes.set_xlabel(\"Color\",color='gold') \n",
    "axes.set_ylabel(\"Magnitude\", color='gold') \n",
    "axes.invert_yaxis()\n",
    "    #plt.figure(facecolor='Black')\n",
    "axes.set_facecolor('Black')\n",
    "axes.scatter(x,y,color='mediumspringgreen')"
   ]
  },
  {
   "cell_type": "code",
   "execution_count": null,
   "id": "b3f29009-2938-436f-a4dc-99d2ef8fc205",
   "metadata": {},
   "outputs": [],
   "source": [
    "# Import the tool\n",
    "from gaiaxpy import calibrate\n",
    "import pylab as lab\n",
    "import sys\n",
    "import time\n",
    "from specutils import Spectrum1D\n",
    "import astropy.units as u\n",
    "from specutils.manipulation import (box_smooth, gaussian_smooth, trapezoid_smooth)\n",
    "# Path to file with XP CONTINUOUS RAW data (csv, ecsv, fits, or xml)\n",
    "f = \"XP_CONTINUOUS_RAW.csv\"\n",
    "calibrated_spectra, sampling = calibrate(f)\n",
    "wave = sampling\n",
    "flux = calibrated_spectra[\"flux\"]"
   ]
  },
  {
   "cell_type": "code",
   "execution_count": null,
   "id": "de0d8446-8f2d-46d2-89cb-4f9b6c83ea79",
   "metadata": {},
   "outputs": [],
   "source": [
    "plt.plot(wave,flux[0])"
   ]
  },
  {
   "cell_type": "code",
   "execution_count": null,
   "id": "ee5ef930-4fa2-4dfd-b567-b98e443338ae",
   "metadata": {},
   "outputs": [],
   "source": [
    "from astropy import constants as const\n",
    "\n",
    "CaTriplet3Wave=866.2 \n",
    "CaTriplet2Wave=854.2\n",
    "CaTriplet1Wave=849.8\n",
    "H_AlphaWave=656.3\n",
    "NaDoublet2Wave=589.5\n",
    "NaDoublet1Wave=589.0\n",
    "H_BetaWave=486.1\n",
    "H_GammaWave=434.0\n",
    "G_BandWave=430.8\n",
    "FeWave=432.5\n",
    "\n",
    "waves=wave\n",
    "fluxs=flux[0]\n",
    "guassFactor = 25\n",
    "\n",
    "spec1d = Spectrum1D(spectral_axis=waves*u.AA, flux = fluxs*u.Jy)\n",
    "\n",
    "spec1_bsmooth = box_smooth(spec1d, width=3)\n",
    "spec1_gsmooth = gaussian_smooth(spec1d, stddev=guassFactor)\n",
    "spec1_tsmooth = trapezoid_smooth(spec1d, width=3)"
   ]
  },
  {
   "cell_type": "code",
   "execution_count": null,
   "id": "4d54eebd-696c-44c1-af6e-2d210cbec54d",
   "metadata": {},
   "outputs": [],
   "source": [
    "\n",
    "#print(Focus)\n",
    "# global title\n",
    "# global waveG\n",
    "# global fluxG\n",
    "#focus=Focus\n",
    "\n",
    "\n",
    "leftLim = 360\n",
    "rightLim = 1043\n",
    "lw = 0.5\n",
    "V= Gaia_Result[\"radial_velocity\"]\n",
    "starGuess = \"IDK!\"\n",
    "x = wave\n",
    "Y=flux*(1+V/(const.c.cgs))\n",
    "y=Y[1]\n",
    "fig = plt.figure(figsize=(24, 7),dpi=300)\n",
    "axes=fig.gca()\n",
    "axes.set_title(\"I don't know\",color='Gold')\n",
    "axes.set_xlabel(\"Wave\",color='gold') \n",
    "axes.set_ylabel(\"Flux\", color='gold') \n",
    "plt.figure(facecolor='Black')\n",
    "axes.set_facecolor('Black')\n",
    "\n",
    "\n",
    "\n",
    "axes.axvline(x=CaTriplet3Wave,color=\"magenta\",linewidth=lw)#Ca Triplet 3\n",
    "\n",
    "axes.axvline(x=CaTriplet2Wave,color=\"magenta\",linewidth=lw)#Ca Triplet 2\n",
    "\n",
    "axes.axvline(x=CaTriplet1Wave,color=\"magenta\",linewidth=lw)#Ca Triplet 1\n",
    "\n",
    "axes.text(862,np.mean(y[0]),\"Ca Triplet\" ,fontweight='bold',color =\"magenta\")\n",
    "\n",
    "axes.axvline(x=H_AlphaWave,color=\"violet\",linewidth=lw,)#Ha\n",
    "axes.text(656.5,np.mean(y[0]), \" H-α\",color=\"violet\")\n",
    "\n",
    "axes.axvline(x=NaDoublet2Wave,color=\"deepskyblue\",linewidth=lw)#Na Doublet 2\n",
    "axes.axvline(x=NaDoublet1Wave,color=\"deepskyblue\",linewidth=lw)#Na Doublet 1\n",
    "axes.text(590,np.mean(y[0]),\"Na Doublet\", color =\"deepskyblue\")\n",
    "\n",
    "axes.axvline(x=H_BetaWave,color=\"lime\",linewidth=lw)#Hb\n",
    "axes.text(486.5,np.mean(y[0]), \"H-β\", color=\"lime\")\n",
    "\n",
    "axes.axvline(x=H_GammaWave,color=\"darkgoldenrod\",linewidth=lw)#Hg\n",
    "axes.text(434.2,np.mean(y[0]), \"H-γ\", color=\"darkgoldenrod\") \n",
    "\n",
    "axes.axvline(x=G_BandWave,color=\"Red\",linewidth=lw)# G-Band(?)\n",
    "    \n",
    "axes.text(408.0,np.mean(y[0]),\"G-band\",color=\"Red\") # double check this is actually the g-band\n",
    "   \n",
    "\n",
    "axes.axvline(x=FeWave,color=\"coral\",linewidth=lw)#Fe\n",
    "axes.text(433,np.mean(y[0]),\"Fe 432.5\",color=\"coral\") \n",
    "axes.set_xlim(leftLim,rightLim)\n",
    "axes.plot(x,y)\n",
    "\n",
    "\n",
    "plt.show\n",
    "\n",
    "#return waveG \n",
    "#return fluxG\n",
    "#return lw\n",
    "#return title"
   ]
  },
  {
   "cell_type": "code",
   "execution_count": null,
   "id": "d99484ad-91f3-4b3e-87fa-b936a5c3aea0",
   "metadata": {},
   "outputs": [],
   "source": [
    "x\n",
    "y"
   ]
  },
  {
   "cell_type": "code",
   "execution_count": null,
   "id": "57457646-ef92-416e-9304-34e5e0288f74",
   "metadata": {},
   "outputs": [],
   "source": [
    "x\n"
   ]
  },
  {
   "cell_type": "code",
   "execution_count": null,
   "id": "285b0e9c-1ae4-4e04-a2bf-21e857e8e540",
   "metadata": {},
   "outputs": [],
   "source": [
    "Y"
   ]
  },
  {
   "cell_type": "code",
   "execution_count": null,
   "id": "72a62d9f-c10c-47de-8d65-9ed9b0153820",
   "metadata": {},
   "outputs": [],
   "source": [
    "b=950\n",
    "w = np.empty([951])\n",
    "while b>-1:\n",
    "    w[b]=np.isfinite(np.sum(Y[b]))\n",
    "    if np.isfinite(np.sum(Y[b])) == True:\n",
    "        print(b)\n",
    "    b=b-1\n",
    "    \n",
    "    w.size\n"
   ]
  },
  {
   "cell_type": "code",
   "execution_count": null,
   "id": "c591d366-3143-40ef-aa7e-10af635e7712",
   "metadata": {},
   "outputs": [],
   "source": []
  },
  {
   "cell_type": "code",
   "execution_count": null,
   "id": "6cc6c558-4497-406a-9852-d687e9864693",
   "metadata": {},
   "outputs": [],
   "source": []
  },
  {
   "cell_type": "code",
   "execution_count": null,
   "id": "20cf89e6",
   "metadata": {},
   "outputs": [],
   "source": []
  }
 ],
 "metadata": {
  "kernelspec": {
   "display_name": "Python 3 (LSST 2020)",
   "language": "python",
   "name": "python3"
  },
  "language_info": {
   "codemirror_mode": {
    "name": "ipython",
    "version": 3
   },
   "file_extension": ".py",
   "mimetype": "text/x-python",
   "name": "python",
   "nbconvert_exporter": "python",
   "pygments_lexer": "ipython3",
   "version": "3.8.12"
  }
 },
 "nbformat": 4,
 "nbformat_minor": 5
}

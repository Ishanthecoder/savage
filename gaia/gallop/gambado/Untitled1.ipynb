{
 "cells": [
  {
   "cell_type": "code",
   "execution_count": 1,
   "id": "a5e33f1a",
   "metadata": {},
   "outputs": [],
   "source": [
    "from astropy.coordinates import SkyCoord\n",
    "import astropy.units as u\n",
    "from astroquery.vizier import Vizier\n",
    "import pandas as pd\n",
    "\n",
    "# Read in the Gaia data\n",
    "gaia_data = pd.read_csv('GaiaProjectData-result.csv')\n",
    "\n",
    "# Create a new pandas dataframe to hold the matched ZTF data\n",
    "ztf_matched_data = pd.DataFrame(columns=['ra', 'dec', 'source_id', 'filter', 'obs_time'])\n",
    "\n",
    "# Loop over each row of the Gaia data\n",
    "for index, row in gaia_data.iterrows():\n",
    "    # Create an astropy SkyCoord object for the Gaia position\n",
    "    gaia_position = SkyCoord(row['ra'], row['dec'], unit=(u.deg, u.deg), frame='icrs')\n",
    "    \n",
    "    # Query the ZTF DR14 catalog for the source within a 5 arcsecond radius of the Gaia position\n",
    "    ztf_results = Vizier.query_region(gaia_position, radius=5*u.arcsec, catalog='II/397/ztf14')\n",
    "    \n",
    "    # Check if the query returned any results\n",
    "    if len(ztf_results) > 0:\n",
    "        # Extract the ZTF data from the query results\n",
    "        ztf_data = ztf_results['II/397/ztf14'].to_pandas()\n",
    "        \n",
    "        # Filter the ZTF data for the specified filter (g or r)\n",
    "        ztf_data_filtered = ztf_data[ztf_data['Fid'] == row['filter']]\n",
    "        \n",
    "        # Check if any matches were found\n",
    "        if len(ztf_data_filtered) > 0:\n",
    "            # Extract the relevant data for each match and append to the matched data dataframe\n",
    "            for i in range(len(ztf_data_filtered)):\n",
    "                obs_time = ztf_data_filtered.iloc[i]['ObsTime']\n",
    "                source_id = ztf_data_filtered.iloc[i]['SourceID']\n",
    "                ztf_matched_data = ztf_matched_data.append({'ra': row['ra'], 'dec': row['dec'], 'source_id': source_id, 'filter': row['filter'], 'obs_time': obs_time}, ignore_index=True)\n"
   ]
  },
  {
   "cell_type": "code",
   "execution_count": 2,
   "id": "83541cca",
   "metadata": {},
   "outputs": [
    {
     "name": "stdout",
     "output_type": "stream",
     "text": [
      "Empty DataFrame\n",
      "Columns: [ra, dec, source_id, filter, obs_time]\n",
      "Index: []\n",
      "done\n"
     ]
    }
   ],
   "source": [
    "print(ztf_matched_data)\n",
    "print(\"done\")"
   ]
  },
  {
   "cell_type": "code",
   "execution_count": null,
   "id": "9fd7c66e",
   "metadata": {},
   "outputs": [],
   "source": []
  }
 ],
 "metadata": {
  "kernelspec": {
   "display_name": "Python (.conda-my_enviroment)",
   "language": "python",
   "name": "conda-env-.conda-my_enviroment-py"
  },
  "language_info": {
   "codemirror_mode": {
    "name": "ipython",
    "version": 3
   },
   "file_extension": ".py",
   "mimetype": "text/x-python",
   "name": "python",
   "nbconvert_exporter": "python",
   "pygments_lexer": "ipython3",
   "version": "3.8.16"
  }
 },
 "nbformat": 4,
 "nbformat_minor": 5
}

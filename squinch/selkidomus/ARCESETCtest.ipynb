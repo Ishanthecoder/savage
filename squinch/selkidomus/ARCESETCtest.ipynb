{
 "cells": [
  {
   "cell_type": "code",
   "execution_count": 3,
   "metadata": {
    "scrolled": true
   },
   "outputs": [
    {
     "ename": "ImportError",
     "evalue": "cannot import name 'plot_order_sn' from 'arcesetc' (unknown location)",
     "output_type": "error",
     "traceback": [
      "\u001b[0;31m---------------------------------------------------------------------------\u001b[0m",
      "\u001b[0;31mImportError\u001b[0m                               Traceback (most recent call last)",
      "\u001b[0;32m<ipython-input-3-76d226b82ce2>\u001b[0m in \u001b[0;36m<module>\u001b[0;34m\u001b[0m\n\u001b[1;32m      2\u001b[0m \u001b[0;32mimport\u001b[0m \u001b[0marcesetc\u001b[0m\u001b[0;34m\u001b[0m\u001b[0;34m\u001b[0m\u001b[0m\n\u001b[1;32m      3\u001b[0m \u001b[0;32mimport\u001b[0m \u001b[0mastropy\u001b[0m\u001b[0;34m.\u001b[0m\u001b[0munits\u001b[0m \u001b[0;32mas\u001b[0m \u001b[0mu\u001b[0m\u001b[0;34m\u001b[0m\u001b[0;34m\u001b[0m\u001b[0m\n\u001b[0;32m----> 4\u001b[0;31m \u001b[0;32mfrom\u001b[0m \u001b[0marcesetc\u001b[0m \u001b[0;32mimport\u001b[0m \u001b[0mplot_order_sn\u001b[0m\u001b[0;34m\u001b[0m\u001b[0;34m\u001b[0m\u001b[0m\n\u001b[0m\u001b[1;32m      5\u001b[0m \u001b[0;32mfrom\u001b[0m \u001b[0marcesetc\u001b[0m \u001b[0;32mimport\u001b[0m \u001b[0msignal_to_noise_to_exp_time\u001b[0m\u001b[0;34m\u001b[0m\u001b[0;34m\u001b[0m\u001b[0m\n\u001b[1;32m      6\u001b[0m \u001b[0;32mimport\u001b[0m \u001b[0mpandas\u001b[0m \u001b[0;32mas\u001b[0m \u001b[0mpd\u001b[0m\u001b[0;34m\u001b[0m\u001b[0;34m\u001b[0m\u001b[0m\n",
      "\u001b[0;31mImportError\u001b[0m: cannot import name 'plot_order_sn' from 'arcesetc' (unknown location)"
     ]
    }
   ],
   "source": [
    "import matplotlib.pyplot as plt\n",
    "import arcesetc\n",
    "import astropy.units as u\n",
    "from arcesetc import plot_order_sn\n",
    "from arcesetc import signal_to_noise_to_exp_time\n",
    "import pandas as pd\n",
    "import numpy as np\n",
    "import math\n",
    "import time\n",
    "import sys\n",
    "from IPython.display import display \n",
    "\n",
    "pd.set_option(\"display.max_rows\", None, \"display.max_columns\", None)\n",
    "\n",
    "VSI = pd.read_csv ('list_of_viable_stars_simplemethod.csv')\n",
    "print (VSI)\n",
    "\n",
    "type(VSI)\n",
    "    \n",
    "print (\"\\nImport Complete\\nSet Up Complete\\nRunning Test\")\n",
    "sptype = 'M0V'\n",
    "wavelength = 6562 * u.Angstrom\n",
    "signal_to_noise = 30\n",
    "V = 12\n",
    "exp_time = (signal_to_noise_to_exp_time(sptype, wavelength, V,signal_to_noise))\n",
    "print(exp_time)\n",
    "#fig, ax, exp_time = plot_order_sn(sptype, wavelength, V, 5) \n",
    "#plt.show() \n",
    "print(\"Test complete\")"
   ]
  },
  {
   "cell_type": "code",
   "execution_count": null,
   "metadata": {},
   "outputs": [],
   "source": [
    "def returnExpTime (vInput,signalToNoise,spType):\n",
    "    sptype = spType\n",
    "    wavelength = 6562 * u.Angstrom\n",
    "    signal_to_noise = signalToNoise\n",
    "    V = vInput\n",
    "    exp_time = (signal_to_noise_to_exp_time(sptype, wavelength, V,signal_to_noise))\n",
    "#fig, ax, exp_time = plot_order_sn(sptype, wavelength, V, 5) \n",
    "#plt.show() \n",
    "    return exp_time\n"
   ]
  },
  {
   "cell_type": "code",
   "execution_count": null,
   "metadata": {},
   "outputs": [],
   "source": [
    "from arcesetc import __file__\n",
    "print(__file__)"
   ]
  },
  {
   "cell_type": "code",
   "execution_count": null,
   "metadata": {},
   "outputs": [],
   "source": [
    "VSI['ExpTime'] = VSI['Gmag'].map(lambda Gmag: Gmag*1)\n",
    "print (VSI) #this is just a test line\n",
    "VSI['ExpTime'] = VSI['Gmag'].map(lambda Gmag: returnExpTime(Gmag,30,'M0V'))\n",
    "print (VSI)\n"
   ]
  },
  {
   "cell_type": "code",
   "execution_count": null,
   "metadata": {},
   "outputs": [],
   "source": []
  }
 ],
 "metadata": {
  "kernelspec": {
   "display_name": "Python 3",
   "language": "python",
   "name": "python3"
  },
  "language_info": {
   "codemirror_mode": {
    "name": "ipython",
    "version": 3
   },
   "file_extension": ".py",
   "mimetype": "text/x-python",
   "name": "python",
   "nbconvert_exporter": "python",
   "pygments_lexer": "ipython3",
   "version": "3.7.8"
  }
 },
 "nbformat": 4,
 "nbformat_minor": 4
}

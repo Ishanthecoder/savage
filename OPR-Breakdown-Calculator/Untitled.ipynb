{
 "cells": [
  {
   "cell_type": "code",
   "execution_count": 1,
   "id": "893cb79d-e72d-4fb9-bab2-ed851fd469a2",
   "metadata": {},
   "outputs": [],
   "source": [
    "import numpy as np\n",
    "import pandas as pd"
   ]
  },
  {
   "cell_type": "code",
   "execution_count": null,
   "id": "c6d1f0a4-c4b1-45f1-90bf-d84767e17278",
   "metadata": {},
   "outputs": [],
   "source": [
    "f =  np.genfromtxt('35Cyg_061021_merged.txt',unpack=True)\n",
    "\n",
    "specdata = f[1].data \n"
   ]
  }
 ],
 "metadata": {
  "kernelspec": {
   "display_name": "Python 3 (ipykernel)",
   "language": "python",
   "name": "python3"
  },
  "language_info": {
   "codemirror_mode": {
    "name": "ipython",
    "version": 3
   },
   "file_extension": ".py",
   "mimetype": "text/x-python",
   "name": "python",
   "nbconvert_exporter": "python",
   "pygments_lexer": "ipython3",
   "version": "3.8.12"
  }
 },
 "nbformat": 4,
 "nbformat_minor": 5
}

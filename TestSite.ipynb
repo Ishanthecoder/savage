{
 "cells": [
  {
   "cell_type": "code",
   "execution_count": 7,
   "metadata": {},
   "outputs": [
    {
     "name": "stdout",
     "output_type": "stream",
     "text": [
      "   Unnamed: 0                      Name      RA    Dec Class   Gmag\n",
      "0         413           TYC 3740-1791-1   67.04  56.98    EM  10.76\n",
      "1        2494  WISE J185608.58-163255.1  284.04 -16.55  Cool  12.04\n",
      "2        2516  WISE J194127.64+385155.3  295.37  38.87  Cool  12.33\n",
      "3        2525            TYC 2670-214-1  299.61  31.81    EM  11.34\n",
      "\n",
      "Import Complete\n",
      "\n"
     ]
    }
   ],
   "source": [
    "import pandas as pd\n",
    "\n",
    "pd.set_option(\"display.max_rows\", None, \"display.max_columns\", None)\n",
    "\n",
    "VSI = pd.read_csv ('list_of_viable_stars_simplemethod.csv')\n",
    "print (VSI)\n",
    "\n",
    "        \n",
    "print (\"\\nImport Complete\\n\")"
   ]
  },
  {
   "cell_type": "code",
   "execution_count": 8,
   "metadata": {},
   "outputs": [
    {
     "name": "stdout",
     "output_type": "stream",
     "text": [
      "   Unnamed: 0                      Name      RA    Dec Class   Gmag  ExpTime\n",
      "0         413           TYC 3740-1791-1   67.04  56.98    EM  10.76    5.380\n",
      "1        2494  WISE J185608.58-163255.1  284.04 -16.55  Cool  12.04    6.020\n",
      "2        2516  WISE J194127.64+385155.3  295.37  38.87  Cool  12.33    6.165\n",
      "3        2525            TYC 2670-214-1  299.61  31.81    EM  11.34    5.670\n"
     ]
    }
   ],
   "source": [
    "VSI['ExpTime'] = VSI['Gmag'].map(lambda Gmag: Gmag / 2.)\n",
    "print (VSI)\n"
   ]
  }
 ],
 "metadata": {
  "kernelspec": {
   "display_name": "Python 3",
   "language": "python",
   "name": "python3"
  },
  "language_info": {
   "codemirror_mode": {
    "name": "ipython",
    "version": 3
   },
   "file_extension": ".py",
   "mimetype": "text/x-python",
   "name": "python",
   "nbconvert_exporter": "python",
   "pygments_lexer": "ipython3",
   "version": "3.7.3"
  }
 },
 "nbformat": 4,
 "nbformat_minor": 4
}

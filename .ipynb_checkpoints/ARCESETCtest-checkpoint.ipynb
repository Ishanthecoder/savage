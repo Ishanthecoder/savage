{
 "cells": [
  {
   "cell_type": "code",
   "execution_count": 1,
   "metadata": {
    "scrolled": true
   },
   "outputs": [
    {
     "name": "stdout",
     "output_type": "stream",
     "text": [
      "   Unnamed: 0                      Name      RA    Dec Class   Gmag\n",
      "0         413           TYC 3740-1791-1   67.04  56.98    EM  10.76\n",
      "1        2494  WISE J185608.58-163255.1  284.04 -16.55  Cool  12.04\n",
      "2        2516  WISE J194127.64+385155.3  295.37  38.87  Cool  12.33\n",
      "3        2525            TYC 2670-214-1  299.61  31.81    EM  11.34\n",
      "\n",
      "Import Complete\n",
      "Set Up Complete\n",
      "Running Test\n",
      "642.1144400392153 s\n",
      "Test complete\n"
     ]
    }
   ],
   "source": [
    "import matplotlib.pyplot as plt\n",
    "import arcesetc\n",
    "import astropy.units as u\n",
    "from arcesetc import plot_order_sn\n",
    "from arcesetc import signal_to_noise_to_exp_time\n",
    "import pandas as pd\n",
    "import numpy as np\n",
    "import math\n",
    "import time\n",
    "import sys\n",
    "from IPython.display import display \n",
    "\n",
    "pd.set_option(\"display.max_rows\", None, \"display.max_columns\", None)\n",
    "\n",
    "VSI = pd.read_csv ('list_of_viable_stars_simplemethod.csv')\n",
    "print (VSI)\n",
    "\n",
    "type(VSI)\n",
    "    \n",
    "print (\"\\nImport Complete\\nSet Up Complete\\nRunning Test\")\n",
    "sptype = 'M0V'\n",
    "wavelength = 6562 * u.Angstrom\n",
    "signal_to_noise = 30\n",
    "V = 12\n",
    "exp_time = (signal_to_noise_to_exp_time(sptype, wavelength, V,signal_to_noise))\n",
    "print(exp_time)\n",
    "#fig, ax, exp_time = plot_order_sn(sptype, wavelength, V, 5) \n",
    "#plt.show() \n",
    "print(\"Test complete\")"
   ]
  },
  {
   "cell_type": "code",
   "execution_count": 8,
   "metadata": {},
   "outputs": [],
   "source": [
    "def returnExpTime (vInput,signalToNoise,spType):\n",
    "    sptype = spType\n",
    "    wavelength = 6562 * u.Angstrom\n",
    "    signal_to_noise = signalToNoise\n",
    "    V = vInput\n",
    "    exp_time = (signal_to_noise_to_exp_time(sptype, wavelength, V,signal_to_noise))\n",
    "#fig, ax, exp_time = plot_order_sn(sptype, wavelength, V, 5) \n",
    "#plt.show() \n",
    "    return exp_time\n"
   ]
  },
  {
   "cell_type": "code",
   "execution_count": 6,
   "metadata": {},
   "outputs": [
    {
     "name": "stdout",
     "output_type": "stream",
     "text": [
      "/home/ishanthecoder/snap/jupyter/common/lib/python3.7/site-packages/arcesetc/__init__.py\n"
     ]
    }
   ],
   "source": [
    "from arcesetc import __file__\n",
    "print(__file__)"
   ]
  },
  {
   "cell_type": "code",
   "execution_count": 11,
   "metadata": {},
   "outputs": [
    {
     "name": "stdout",
     "output_type": "stream",
     "text": [
      "   Unnamed: 0                      Name      RA    Dec Class   Gmag  ExpTime\n",
      "0         413           TYC 3740-1791-1   67.04  56.98    EM  10.76    10.76\n",
      "1        2494  WISE J185608.58-163255.1  284.04 -16.55  Cool  12.04    12.04\n",
      "2        2516  WISE J194127.64+385155.3  295.37  38.87  Cool  12.33    12.33\n",
      "3        2525            TYC 2670-214-1  299.61  31.81    EM  11.34    11.34\n",
      "   Unnamed: 0                      Name      RA    Dec Class   Gmag  \\\n",
      "0         413           TYC 3740-1791-1   67.04  56.98    EM  10.76   \n",
      "1        2494  WISE J185608.58-163255.1  284.04 -16.55  Cool  12.04   \n",
      "2        2516  WISE J194127.64+385155.3  295.37  38.87  Cool  12.33   \n",
      "3        2525            TYC 2670-214-1  299.61  31.81    EM  11.34   \n",
      "\n",
      "                ExpTime  \n",
      "0  204.93325426919824 s  \n",
      "1   666.2119777477566 s  \n",
      "2   870.1866906588584 s  \n",
      "3   349.6330160297784 s  \n"
     ]
    }
   ],
   "source": [
    "VSI['ExpTime'] = VSI['Gmag'].map(lambda Gmag: Gmag*1)\n",
    "print (VSI) #this is just a test line\n",
    "VSI['ExpTime'] = VSI['Gmag'].map(lambda Gmag: returnExpTime(Gmag,30,'M0V'))\n",
    "print (VSI)\n"
   ]
  },
  {
   "cell_type": "code",
   "execution_count": null,
   "metadata": {},
   "outputs": [],
   "source": []
  }
 ],
 "metadata": {
  "kernelspec": {
   "display_name": "Python 3",
   "language": "python",
   "name": "python3"
  },
  "language_info": {
   "codemirror_mode": {
    "name": "ipython",
    "version": 3
   },
   "file_extension": ".py",
   "mimetype": "text/x-python",
   "name": "python",
   "nbconvert_exporter": "python",
   "pygments_lexer": "ipython3",
   "version": "3.7.3"
  }
 },
 "nbformat": 4,
 "nbformat_minor": 4
}
